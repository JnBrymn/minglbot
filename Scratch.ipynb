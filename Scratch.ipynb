{
 "metadata": {
  "name": ""
 },
 "nbformat": 3,
 "nbformat_minor": 0,
 "worksheets": [
  {
   "cells": [
    {
     "cell_type": "code",
     "collapsed": false,
     "input": [
      "import minglbot\n",
      "import os\n",
      "from py2neo import neo4j\n",
      "\n",
      "######IMPORTANT FAST FAIL TEST##############\n",
      "m = minglbot.MinglBot(os.getenv(\"TWITTER_CONSUMER_KEY\"), os.getenv(\"TWITTER_CONSUMER_SECRET\"), neo4j_host=\"localhost:7474\")\n",
      "test = neo4j.CypherQuery(m.graph,\"\"\"\n",
      "    MATCH (x {this_is_a_test_db:true}) RETURN count(*)\n",
      "\"\"\").execute_one()\n",
      "if test != 1:\n",
      "    raise Exception(\"TESTING ON NON-TEST GRAPH DB!!!!! ABORTED!!!!!\")\n",
      "######IMPORTANT FAST FAIL TEST##############\n",
      "\n",
      "#Test setup\n",
      "kmbrymn = 134649059\n",
      "jnbrymn = \"jnbrymn\"\n",
      "\n",
      "def _create_user_in_neo4j(mingl_bot,user):\n",
      "    if type(user) is int:\n",
      "        query = \"\"\"\n",
      "            MERGE (u:User {id:{id}})\n",
      "            ON CREATE SET\n",
      "                u.created_at = timestamp()\n",
      "            RETURN u\n",
      "        \"\"\"\n",
      "        u = neo4j.CypherQuery(mingl_bot.graph,query).execute_one(id=user)    \n",
      "    elif type(user) is str:\n",
      "        query = \"\"\"\n",
      "            MERGE (u:User {screen_name:LOWER({screen_name})})\n",
      "            ON CREATE SET\n",
      "                u.created_at = timestamp()\n",
      "            RETURN u\n",
      "        \"\"\"\n",
      "        u = neo4j.CypherQuery(mingl_bot.graph,query).execute_one(screen_name=user.lower())\n",
      "    else:\n",
      "        raise Exception(\"user must be either integer for id, string for screen_name\")\n",
      "    return minglbot.User(u.get_properties())\n",
      "\n",
      "        \n",
      "def _delete_user_from_neo4j(mingl_bot,user):\n",
      "    if type(user) is int:\n",
      "        query = \"\"\"\n",
      "            MATCH (u:User {id:{id}})\n",
      "            OPTIONAL MATCH (u)-[r]-()\n",
      "            DELETE u,r\n",
      "        \"\"\"\n",
      "        u = neo4j.CypherQuery(mingl_bot.graph,query).run(id=user)    \n",
      "    elif type(user) is str:\n",
      "        query = \"\"\"\n",
      "            MATCH (u:User {screen_name:LOWER({screen_name})})\n",
      "            OPTIONAL MATCH (u)-[r]-()\n",
      "            DELETE u,r\n",
      "        \"\"\"\n",
      "        u = neo4j.CypherQuery(mingl_bot.graph,query).run(screen_name=user.lower())\n",
      "    else:\n",
      "        raise Exception(\"user must be either integer for id, string for screen_name\")\n",
      "\n",
      "def has_friend(minglbot,user_screen_name,friend_id):\n",
      "    #TODO change to user,friend (can be id,screen_name,or user)\n",
      "    result = neo4j.CypherQuery(minglbot.graph,\"\"\"\n",
      "        MATCH (u:User{screen_name:LOWER({screen_name})})-[:FOLLOWS]->(f:User{id:{id}})\n",
      "        RETURN COUNT(*)\n",
      "    \"\"\").execute_one(screen_name=user_screen_name,id=friend_id)\n",
      "    if result == 1:\n",
      "        return True\n",
      "    else:\n",
      "        return False\n",
      "\n",
      "\n",
      "#Test basic hydration\n",
      "_delete_user_from_neo4j(m,\"jnbrymn\")\n",
      "u = m._hydrate_users_from_twitter([\"jnbrymn\"])\n",
      "assert u[0][\"name\"] == \"John Berryman\""
     ],
     "language": "python",
     "metadata": {},
     "outputs": [],
     "prompt_number": 1
    },
    {
     "cell_type": "code",
     "collapsed": false,
     "input": [
      "u"
     ],
     "language": "python",
     "metadata": {},
     "outputs": [
      {
       "metadata": {},
       "output_type": "pyout",
       "prompt_number": 2,
       "text": [
        "[User(id=28881634,screen_name=jnbrymn)]"
       ]
      }
     ],
     "prompt_number": 2
    },
    {
     "cell_type": "code",
     "collapsed": false,
     "input": [],
     "language": "python",
     "metadata": {},
     "outputs": []
    }
   ],
   "metadata": {}
  }
 ]
}