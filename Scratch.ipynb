{
 "metadata": {
  "name": ""
 },
 "nbformat": 3,
 "nbformat_minor": 0,
 "worksheets": [
  {
   "cells": [
    {
     "cell_type": "code",
     "collapsed": false,
     "input": [
      "#TODO\n",
      "# Add stalker capability to pull in more people - see tiddlywiki for details\n",
      "# implement jobs left \n",
      "\n",
      "import os\n",
      "import logging #see http://docs.python.org/2/howto/logging\n",
      "import tweepy\n",
      "from Queue import PriorityQueue\n",
      "import mingl\n",
      "import datetime\n",
      "import time\n",
      "\n",
      "m = mingl.Mingl(os.getenv(\"TWITTER_CONSUMER_KEY\"), os.getenv(\"TWITTER_CONSUMER_SECRET\"))\n",
      "class Job(object):\n",
      "    def __init__(self,id,screen_names,author):\n",
      "        self.id = id\n",
      "        self.screen_names = screen_names\n",
      "        self.author = author\n",
      "        \n",
      "    def __repr__(self):\n",
      "        return \"{0}:{1}:{2}\".format(self.id,','.join(self.screen_names),self.author)\n",
      "\n",
      "class JobQueue(object):\n",
      "    def __init__(self):\n",
      "        self._priorityQueue = PriorityQueue()\n",
      "    \n",
      "    def put(self,job,priority_metric):\n",
      "        self._priorityQueue.put_nowait((-priority_metric,job))\n",
      "        \n",
      "    def get(self):\n",
      "        try:\n",
      "            return self._priorityQueue.get_nowait()[1]\n",
      "        except Exception:\n",
      "            return None\n",
      "    \n",
      "    def __iter__(self):\n",
      "        job = True\n",
      "        while job:\n",
      "            job = self.get()\n",
      "            yield job\n",
      "        \n",
      "class TwitterBot(object):\n",
      "    def __init__(self,\n",
      "                 twitter_consumer_key,\n",
      "                 twitter_consumer_secret,\n",
      "                 bot_screen_name = \"minglbot\",\n",
      "                 response_history_file=\"response_history.txt\",\n",
      "                 twitter_bot_token=None,\n",
      "                 twitter_bot_secret=None,\n",
      "                 refresh_jobs_period=5*60, #seconds - how often to read the bot's twitter mentions and refresh the job queue\n",
      "                 min_screen_names = 6\n",
      "                ):\n",
      "        logging.basicConfig(filename=\"twitterbot.log\",level=logging.INFO)\n",
      "        logging.info(\"Initializing TwitterBot\")\n",
      "        twitter_bot_token = twitter_bot_token if twitter_bot_token else os.getenv(\"TWITTER_BOT_TOKEN\")\n",
      "        twitter_bot_secret = twitter_bot_secret if twitter_bot_secret else os.getenv(\"TWITTER_BOT_SECRET\")\n",
      "        auth = tweepy.OAuthHandler(twitter_consumer_key, twitter_consumer_secret)\n",
      "        auth.set_access_token(twitter_bot_token, twitter_bot_secret)\n",
      "        self._twitter = tweepy.API(auth)\n",
      "        self._screen_name = bot_screen_name.lower()\n",
      "        self._response_history_file = response_history_file\n",
      "        self._refresh_jobs_period = refresh_jobs_period\n",
      "        self._mingl = mingl.Mingl(os.getenv(\"TWITTER_CONSUMER_KEY\"), os.getenv(\"TWITTER_CONSUMER_SECRET\"))\n",
      "        self._job_queue = JobQueue()\n",
      "        self._since_id = 1 #message status id to start with. by default start reading from the beginning of time\n",
      "        self._min_screen_names = min_screen_names\n",
      "        \n",
      "        #collect all completed job ids\n",
      "        try:\n",
      "            with open(response_history_file) as f:\n",
      "                self._done_job_ids = set([int(line.strip()) for line in f])\n",
      "        except IOError, e:\n",
      "            logging.fatal(\"trouble opening response_history.txt: {0}\".format(e))\n",
      "            exit(1)\n",
      "        \n",
      "    def _refresh_jobs(self):\n",
      "        num_jobs = 0\n",
      "        mentions = self._twitter.mentions_timeline(since_id=self._since_id,count=800)\n",
      "        for mention in mentions:\n",
      "            self._since_id = mention.id\n",
      "            if mention.id in self._done_job_ids:\n",
      "                continue\n",
      "            screen_names = []\n",
      "            for user in mention.entities[\"user_mentions\"]:\n",
      "                screen_name = user[\"screen_name\"].lower()\n",
      "                if screen_name != self._screen_name:\n",
      "                    screen_names.append(screen_name)\n",
      "            if len(screen_names) > self._min_screen_names:\n",
      "                num_jobs += 1\n",
      "                self._job_queue.put(\n",
      "                    Job(mention.id, screen_names, mention.author.screen_name.lower()),\n",
      "                    mention.author.followers_count\n",
      "                )\n",
      "        logging.info(\"Refreshed job queue. Found {0} jobs\".format(num_jobs))\n",
      "        \n",
      "    def _execute_job(self):\n",
      "        job = self._job_queue.get()\n",
      "        if not job:\n",
      "            logging.info(u\"No more jobs to do. Sleeping.\")\n",
      "            time.sleep(60)\n",
      "            return False\n",
      "        logging.info(u\"Executing job: {0}\".format(job))\n",
      "                \n",
      "        tweet = self._make_popular_friends_tweet(job.author,job.users)\n",
      "        self._send_tweet(tweet,job.id)\n",
      "    \n",
      "        ######################\n",
      "        # find central nodes #\n",
      "        ######################\n",
      "        \n",
      "        ######################\n",
      "        # find central topic #\n",
      "        ######################\n",
      "        \n",
      "        ##############################\n",
      "        # find venues for connection #\n",
      "        ##############################\n",
      "        \n",
      "        with open(self._response_history_file,'a') as f:\n",
      "            f.write(\"{0}\\n\".format(job.id))\n",
      "        self._done_job_ids.add(job.id)\n",
      "        return True\n",
      "    \n",
      "    def _make_popular_friends_tweet(self,from_user,users):\n",
      "        friends = self._mingl.get_friends(users)\n",
      "        m.hydrate_users(friends)\n",
      "        friends = self._mingl.get_friends(users)\n",
      "        \n",
      "        #get only the friends that about half of them know\n",
      "        popularity = len(users)/2\n",
      "        if popularity < 3:\n",
      "            popularity = 3\n",
      "        friends = friends.get_all_with_min_popularity(popularity)\n",
      "        if len(friends) > 3:\n",
      "            tweet = \"@{0}, their best friends:\".format(from_user)\n",
      "            for friend in friends:\n",
      "                if len(tweet)<=140:\n",
      "                    tweet += \" @\"+friend.screen_name\n",
      "        else:\n",
      "            tweet = \"@{0}, these users don't seem to have much in common\".format(job.author)\n",
      "        return tweet\n",
      "\n",
      "        \n",
      "\n",
      "    def _send_tweet(self,tweet,job_id):\n",
      "        \"\"\"thin wrapper so that I won't send tweets to my account\"\"\"\n",
      "        logging.info(\"Sending tweet: \\\"{0}\\\" for job {1}\".format(tweet,job_id))\n",
      "        if self._screen_name == \"jnbrymn\":\n",
      "            return\n",
      "        self._twitter.update_status(tweet,job_id)\n",
      "    \n",
      "    def run(self):\n",
      "        last_job_refresh = datetime.datetime.min\n",
      "        while(True):\n",
      "            if (datetime.datetime.now()-last_job_refresh).seconds > self._refresh_jobs_period:\n",
      "                self._refresh_jobs()\n",
      "                last_job_refresh=datetime.datetime.now()\n",
      "            self._execute_job()\n",
      "\n"
     ],
     "language": "python",
     "metadata": {},
     "outputs": [],
     "prompt_number": 1
    },
    {
     "cell_type": "code",
     "collapsed": false,
     "input": [
      "t=TwitterBot(os.getenv(\"TWITTER_CONSUMER_KEY\"), os.getenv(\"TWITTER_CONSUMER_SECRET\"),os.getenv(\"TWITTER_SCREEN_NAME\"),min_screen_names=1)"
     ],
     "language": "python",
     "metadata": {},
     "outputs": [],
     "prompt_number": 2
    },
    {
     "cell_type": "code",
     "collapsed": false,
     "input": [
      "tweet = t._make_popular_friends_tweet(\"minglbot\",[\"gburnett_dba\",\"cl4rk3\",\"capehart\",\"OicheShamhnaCat\",\"dplepage\",\"whit_hunter\",\"harpertrow\",\"metasim\",\"thefoodgeek\",\"asallans\",\"d_a_l_l\"])\n",
      "print tweet"
     ],
     "language": "python",
     "metadata": {},
     "outputs": [
      {
       "ename": "SocketError",
       "evalue": "Connection refused",
       "output_type": "pyerr",
       "traceback": [
        "\u001b[0;31m---------------------------------------------------------------------------\u001b[0m\n\u001b[0;31mSocketError\u001b[0m                               Traceback (most recent call last)",
        "\u001b[0;32m<ipython-input-18-f674346f7f5b>\u001b[0m in \u001b[0;36m<module>\u001b[0;34m()\u001b[0m\n\u001b[0;32m----> 1\u001b[0;31m \u001b[0mtweet\u001b[0m \u001b[0;34m=\u001b[0m \u001b[0mt\u001b[0m\u001b[0;34m.\u001b[0m\u001b[0m_make_popular_friends_tweet\u001b[0m\u001b[0;34m(\u001b[0m\u001b[0;34m\"minglbot\"\u001b[0m\u001b[0;34m,\u001b[0m\u001b[0;34m[\u001b[0m\u001b[0;34m\"@gburnett_dba\"\u001b[0m\u001b[0;34m,\u001b[0m\u001b[0;34m\"@cl4rk3\"\u001b[0m\u001b[0;34m,\u001b[0m\u001b[0;34m\"@capehart\"\u001b[0m\u001b[0;34m,\u001b[0m\u001b[0;34m\"@OicheShamhnaCat\"\u001b[0m\u001b[0;34m,\u001b[0m\u001b[0;34m\"@dplepage\"\u001b[0m\u001b[0;34m,\u001b[0m\u001b[0;34m\"@whit_hunter\"\u001b[0m\u001b[0;34m,\u001b[0m\u001b[0;34m\"@harpertrow\"\u001b[0m\u001b[0;34m,\u001b[0m\u001b[0;34m\"@metasim\"\u001b[0m\u001b[0;34m,\u001b[0m\u001b[0;34m\"@thefoodgeek\"\u001b[0m\u001b[0;34m,\u001b[0m\u001b[0;34m\"@asallans\"\u001b[0m\u001b[0;34m,\u001b[0m\u001b[0;34m\"@d_a_l_l\"\u001b[0m\u001b[0;34m]\u001b[0m\u001b[0;34m)\u001b[0m\u001b[0;34m\u001b[0m\u001b[0m\n\u001b[0m\u001b[1;32m      2\u001b[0m \u001b[0;32mprint\u001b[0m \u001b[0mtweet\u001b[0m\u001b[0;34m\u001b[0m\u001b[0m\n",
        "\u001b[0;32m<ipython-input-16-b255784e95a3>\u001b[0m in \u001b[0;36m_make_popular_friends_tweet\u001b[0;34m(self, from_user, users)\u001b[0m\n\u001b[1;32m    123\u001b[0m \u001b[0;34m\u001b[0m\u001b[0m\n\u001b[1;32m    124\u001b[0m     \u001b[0;32mdef\u001b[0m \u001b[0m_make_popular_friends_tweet\u001b[0m\u001b[0;34m(\u001b[0m\u001b[0mself\u001b[0m\u001b[0;34m,\u001b[0m\u001b[0mfrom_user\u001b[0m\u001b[0;34m,\u001b[0m\u001b[0musers\u001b[0m\u001b[0;34m)\u001b[0m\u001b[0;34m:\u001b[0m\u001b[0;34m\u001b[0m\u001b[0m\n\u001b[0;32m--> 125\u001b[0;31m         \u001b[0mfriends\u001b[0m \u001b[0;34m=\u001b[0m \u001b[0mself\u001b[0m\u001b[0;34m.\u001b[0m\u001b[0m_mingl\u001b[0m\u001b[0;34m.\u001b[0m\u001b[0mget_friends\u001b[0m\u001b[0;34m(\u001b[0m\u001b[0musers\u001b[0m\u001b[0;34m)\u001b[0m\u001b[0;34m\u001b[0m\u001b[0m\n\u001b[0m\u001b[1;32m    126\u001b[0m         \u001b[0mm\u001b[0m\u001b[0;34m.\u001b[0m\u001b[0mhydrate_users\u001b[0m\u001b[0;34m(\u001b[0m\u001b[0mfriends\u001b[0m\u001b[0;34m)\u001b[0m\u001b[0;34m\u001b[0m\u001b[0m\n\u001b[1;32m    127\u001b[0m         \u001b[0mfriends\u001b[0m \u001b[0;34m=\u001b[0m \u001b[0mself\u001b[0m\u001b[0;34m.\u001b[0m\u001b[0m_mingl\u001b[0m\u001b[0;34m.\u001b[0m\u001b[0mget_friends\u001b[0m\u001b[0;34m(\u001b[0m\u001b[0musers\u001b[0m\u001b[0;34m)\u001b[0m\u001b[0;34m\u001b[0m\u001b[0m\n",
        "\u001b[0;32m/Users/jnbrymn/Personal/Programming/MidlBot/python/mingl.py\u001b[0m in \u001b[0;36mget_friends\u001b[0;34m(self, users, num_to_use, limit, min_num_mutual_friends)\u001b[0m\n\u001b[1;32m    471\u001b[0m             \u001b[0mmin_num_mutual_friends\u001b[0m\u001b[0;34m=\u001b[0m\u001b[0;36m1\u001b[0m\u001b[0;34m\u001b[0m\u001b[0m\n\u001b[1;32m    472\u001b[0m             ):\n\u001b[0;32m--> 473\u001b[0;31m         \u001b[0;32mreturn\u001b[0m \u001b[0mself\u001b[0m\u001b[0;34m.\u001b[0m\u001b[0mget_relations\u001b[0m\u001b[0;34m(\u001b[0m\u001b[0musers\u001b[0m\u001b[0;34m,\u001b[0m\u001b[0;34m\"friends\"\u001b[0m\u001b[0;34m,\u001b[0m\u001b[0mnum_to_use\u001b[0m\u001b[0;34m,\u001b[0m\u001b[0mlimit\u001b[0m\u001b[0;34m,\u001b[0m\u001b[0mmin_num_mutual_friends\u001b[0m\u001b[0;34m)\u001b[0m\u001b[0;34m\u001b[0m\u001b[0m\n\u001b[0m\u001b[1;32m    474\u001b[0m \u001b[0;34m\u001b[0m\u001b[0m\n\u001b[1;32m    475\u001b[0m     def get_followers(self,\n",
        "\u001b[0;32m/Users/jnbrymn/Personal/Programming/MidlBot/python/mingl.py\u001b[0m in \u001b[0;36mget_relations\u001b[0;34m(self, users, direction, num_to_use, limit, min_num_mutual_relations)\u001b[0m\n\u001b[1;32m    429\u001b[0m             \u001b[0mRETURN\u001b[0m \u001b[0mu\u001b[0m\u001b[0;34m\u001b[0m\u001b[0m\n\u001b[1;32m    430\u001b[0m         \"\"\"\n\u001b[0;32m--> 431\u001b[0;31m         \u001b[0;32mfor\u001b[0m \u001b[0mu\u001b[0m \u001b[0;32min\u001b[0m \u001b[0mneo4j\u001b[0m\u001b[0;34m.\u001b[0m\u001b[0mCypherQuery\u001b[0m\u001b[0;34m(\u001b[0m\u001b[0mself\u001b[0m\u001b[0;34m.\u001b[0m\u001b[0mgraph\u001b[0m\u001b[0;34m,\u001b[0m\u001b[0mgetUsersQuery\u001b[0m\u001b[0;34m)\u001b[0m\u001b[0;34m.\u001b[0m\u001b[0mexecute\u001b[0m\u001b[0;34m(\u001b[0m\u001b[0mids\u001b[0m\u001b[0;34m=\u001b[0m\u001b[0mids\u001b[0m\u001b[0;34m,\u001b[0m\u001b[0mscreen_names\u001b[0m\u001b[0;34m=\u001b[0m\u001b[0mscreen_names\u001b[0m\u001b[0;34m)\u001b[0m\u001b[0;34m:\u001b[0m\u001b[0;34m\u001b[0m\u001b[0m\n\u001b[0m\u001b[1;32m    432\u001b[0m             \u001b[0muser\u001b[0m \u001b[0;34m=\u001b[0m \u001b[0mu\u001b[0m\u001b[0;34m.\u001b[0m\u001b[0mvalues\u001b[0m\u001b[0;34m[\u001b[0m\u001b[0;36m0\u001b[0m\u001b[0;34m]\u001b[0m\u001b[0;34m\u001b[0m\u001b[0m\n\u001b[1;32m    433\u001b[0m             \u001b[0;32mif\u001b[0m \u001b[0muser\u001b[0m\u001b[0;34m[\u001b[0m\u001b[0mdirection\u001b[0m\u001b[0;34m+\u001b[0m\u001b[0;34m\"_found_at\"\u001b[0m\u001b[0;34m]\u001b[0m\u001b[0;34m:\u001b[0m\u001b[0;34m\u001b[0m\u001b[0m\n",
        "\u001b[0;32m/Users/jnbrymn/anaconda/lib/python2.7/site-packages/py2neo/neo4j.pyc\u001b[0m in \u001b[0;36mexecute\u001b[0;34m(self, **params)\u001b[0m\n\u001b[1;32m   1075\u001b[0m         \u001b[0;34m:\u001b[0m\u001b[0mrtype\u001b[0m\u001b[0;34m:\u001b[0m \u001b[0;34m:\u001b[0m\u001b[0mpy\u001b[0m\u001b[0;34m:\u001b[0m\u001b[0;32mclass\u001b[0m\u001b[0;34m:\u001b[0m\u001b[0;34m`\u001b[0m\u001b[0mCypherResults\u001b[0m \u001b[0;34m<\u001b[0m\u001b[0mpy2neo\u001b[0m\u001b[0;34m.\u001b[0m\u001b[0mneo4j\u001b[0m\u001b[0;34m.\u001b[0m\u001b[0mCypherResults\u001b[0m\u001b[0;34m>\u001b[0m\u001b[0;34m`\u001b[0m\u001b[0;34m\u001b[0m\u001b[0m\n\u001b[1;32m   1076\u001b[0m         \"\"\"\n\u001b[0;32m-> 1077\u001b[0;31m         \u001b[0;32mreturn\u001b[0m \u001b[0mCypherResults\u001b[0m\u001b[0;34m(\u001b[0m\u001b[0mself\u001b[0m\u001b[0;34m.\u001b[0m\u001b[0m_execute\u001b[0m\u001b[0;34m(\u001b[0m\u001b[0;34m**\u001b[0m\u001b[0mparams\u001b[0m\u001b[0;34m)\u001b[0m\u001b[0;34m)\u001b[0m\u001b[0;34m\u001b[0m\u001b[0m\n\u001b[0m\u001b[1;32m   1078\u001b[0m \u001b[0;34m\u001b[0m\u001b[0m\n\u001b[1;32m   1079\u001b[0m     \u001b[0;32mdef\u001b[0m \u001b[0mexecute_one\u001b[0m\u001b[0;34m(\u001b[0m\u001b[0mself\u001b[0m\u001b[0;34m,\u001b[0m \u001b[0;34m**\u001b[0m\u001b[0mparams\u001b[0m\u001b[0;34m)\u001b[0m\u001b[0;34m:\u001b[0m\u001b[0;34m\u001b[0m\u001b[0m\n",
        "\u001b[0;32m/Users/jnbrymn/anaconda/lib/python2.7/site-packages/py2neo/neo4j.pyc\u001b[0m in \u001b[0;36m_execute\u001b[0;34m(self, **params)\u001b[0m\n\u001b[1;32m   1049\u001b[0m             return self._cypher._post({\n\u001b[1;32m   1050\u001b[0m                 \u001b[0;34m\"query\"\u001b[0m\u001b[0;34m:\u001b[0m \u001b[0mself\u001b[0m\u001b[0;34m.\u001b[0m\u001b[0m_query\u001b[0m\u001b[0;34m,\u001b[0m\u001b[0;34m\u001b[0m\u001b[0m\n\u001b[0;32m-> 1051\u001b[0;31m                 \u001b[0;34m\"params\"\u001b[0m\u001b[0;34m:\u001b[0m \u001b[0mdict\u001b[0m\u001b[0;34m(\u001b[0m\u001b[0mparams\u001b[0m \u001b[0;32mor\u001b[0m \u001b[0;34m{\u001b[0m\u001b[0;34m}\u001b[0m\u001b[0;34m)\u001b[0m\u001b[0;34m,\u001b[0m\u001b[0;34m\u001b[0m\u001b[0m\n\u001b[0m\u001b[1;32m   1052\u001b[0m             })\n\u001b[1;32m   1053\u001b[0m         \u001b[0;32mexcept\u001b[0m \u001b[0mClientError\u001b[0m \u001b[0;32mas\u001b[0m \u001b[0me\u001b[0m\u001b[0;34m:\u001b[0m\u001b[0;34m\u001b[0m\u001b[0m\n",
        "\u001b[0;32m/Users/jnbrymn/anaconda/lib/python2.7/site-packages/py2neo/neo4j.pyc\u001b[0m in \u001b[0;36m_post\u001b[0;34m(self, body)\u001b[0m\n\u001b[1;32m    366\u001b[0m             return self._resource.post(body=body,\n\u001b[1;32m    367\u001b[0m                                        \u001b[0mheaders\u001b[0m\u001b[0;34m=\u001b[0m\u001b[0mself\u001b[0m\u001b[0;34m.\u001b[0m\u001b[0m_headers\u001b[0m\u001b[0;34m,\u001b[0m\u001b[0;34m\u001b[0m\u001b[0m\n\u001b[0;32m--> 368\u001b[0;31m                                        product=self._product)\n\u001b[0m\u001b[1;32m    369\u001b[0m         \u001b[0;32mexcept\u001b[0m \u001b[0m_ClientError\u001b[0m \u001b[0;32mas\u001b[0m \u001b[0me\u001b[0m\u001b[0;34m:\u001b[0m\u001b[0;34m\u001b[0m\u001b[0m\n\u001b[1;32m    370\u001b[0m             \u001b[0;32mraise\u001b[0m \u001b[0mClientError\u001b[0m\u001b[0;34m(\u001b[0m\u001b[0me\u001b[0m\u001b[0;34m)\u001b[0m\u001b[0;34m\u001b[0m\u001b[0m\n",
        "\u001b[0;32m/Users/jnbrymn/anaconda/lib/python2.7/site-packages/py2neo/packages/httpstream/http.pyc\u001b[0m in \u001b[0;36mpost\u001b[0;34m(self, body, headers, **kwargs)\u001b[0m\n\u001b[1;32m    813\u001b[0m         \"\"\"\n\u001b[1;32m    814\u001b[0m         \u001b[0mrq\u001b[0m \u001b[0;34m=\u001b[0m \u001b[0mRequest\u001b[0m\u001b[0;34m(\u001b[0m\u001b[0;34m\"POST\"\u001b[0m\u001b[0;34m,\u001b[0m \u001b[0mself\u001b[0m\u001b[0;34m.\u001b[0m\u001b[0m_uri\u001b[0m\u001b[0;34m,\u001b[0m \u001b[0mbody\u001b[0m\u001b[0;34m,\u001b[0m \u001b[0mheaders\u001b[0m\u001b[0;34m)\u001b[0m\u001b[0;34m\u001b[0m\u001b[0m\n\u001b[0;32m--> 815\u001b[0;31m         \u001b[0;32mreturn\u001b[0m \u001b[0mrq\u001b[0m\u001b[0;34m.\u001b[0m\u001b[0msubmit\u001b[0m\u001b[0;34m(\u001b[0m\u001b[0;34m**\u001b[0m\u001b[0mkwargs\u001b[0m\u001b[0;34m)\u001b[0m\u001b[0;34m\u001b[0m\u001b[0m\n\u001b[0m\u001b[1;32m    816\u001b[0m \u001b[0;34m\u001b[0m\u001b[0m\n\u001b[1;32m    817\u001b[0m     \u001b[0;32mdef\u001b[0m \u001b[0mdelete\u001b[0m\u001b[0;34m(\u001b[0m\u001b[0mself\u001b[0m\u001b[0;34m,\u001b[0m \u001b[0mheaders\u001b[0m\u001b[0;34m=\u001b[0m\u001b[0mNone\u001b[0m\u001b[0;34m,\u001b[0m \u001b[0;34m**\u001b[0m\u001b[0mkwargs\u001b[0m\u001b[0;34m)\u001b[0m\u001b[0;34m:\u001b[0m\u001b[0;34m\u001b[0m\u001b[0m\n",
        "\u001b[0;32m/Users/jnbrymn/anaconda/lib/python2.7/site-packages/py2neo/packages/httpstream/http.pyc\u001b[0m in \u001b[0;36msubmit\u001b[0;34m(self, redirect_limit, product, **response_kwargs)\u001b[0m\n\u001b[1;32m    386\u001b[0m         \u001b[0mheaders\u001b[0m\u001b[0;34m.\u001b[0m\u001b[0msetdefault\u001b[0m\u001b[0;34m(\u001b[0m\u001b[0;34m\"User-Agent\"\u001b[0m\u001b[0;34m,\u001b[0m \u001b[0muser_agent\u001b[0m\u001b[0;34m(\u001b[0m\u001b[0mproduct\u001b[0m\u001b[0;34m)\u001b[0m\u001b[0;34m)\u001b[0m\u001b[0;34m\u001b[0m\u001b[0m\n\u001b[1;32m    387\u001b[0m         \u001b[0;32mwhile\u001b[0m \u001b[0mTrue\u001b[0m\u001b[0;34m:\u001b[0m\u001b[0;34m\u001b[0m\u001b[0m\n\u001b[0;32m--> 388\u001b[0;31m             \u001b[0mhttp\u001b[0m\u001b[0;34m,\u001b[0m \u001b[0mrs\u001b[0m \u001b[0;34m=\u001b[0m \u001b[0msubmit\u001b[0m\u001b[0;34m(\u001b[0m\u001b[0mself\u001b[0m\u001b[0;34m.\u001b[0m\u001b[0mmethod\u001b[0m\u001b[0;34m,\u001b[0m \u001b[0muri\u001b[0m\u001b[0;34m,\u001b[0m \u001b[0mself\u001b[0m\u001b[0;34m.\u001b[0m\u001b[0mbody\u001b[0m\u001b[0;34m,\u001b[0m \u001b[0mheaders\u001b[0m\u001b[0;34m)\u001b[0m\u001b[0;34m\u001b[0m\u001b[0m\n\u001b[0m\u001b[1;32m    389\u001b[0m             \u001b[0mstatus_class\u001b[0m \u001b[0;34m=\u001b[0m \u001b[0mrs\u001b[0m\u001b[0;34m.\u001b[0m\u001b[0mstatus\u001b[0m \u001b[0;34m//\u001b[0m \u001b[0;36m100\u001b[0m\u001b[0;34m\u001b[0m\u001b[0m\n\u001b[1;32m    390\u001b[0m             \u001b[0;32mif\u001b[0m \u001b[0mstatus_class\u001b[0m \u001b[0;34m==\u001b[0m \u001b[0;36m3\u001b[0m\u001b[0;34m:\u001b[0m\u001b[0;34m\u001b[0m\u001b[0m\n",
        "\u001b[0;32m/Users/jnbrymn/anaconda/lib/python2.7/site-packages/py2neo/packages/httpstream/http.pyc\u001b[0m in \u001b[0;36msubmit\u001b[0;34m(method, uri, body, headers)\u001b[0m\n\u001b[1;32m    326\u001b[0m                                       host_port=uri.host_port)\n\u001b[1;32m    327\u001b[0m         \u001b[0;32melse\u001b[0m\u001b[0;34m:\u001b[0m\u001b[0;34m\u001b[0m\u001b[0m\n\u001b[0;32m--> 328\u001b[0;31m             \u001b[0;32mraise\u001b[0m \u001b[0mSocketError\u001b[0m\u001b[0;34m(\u001b[0m\u001b[0mcode\u001b[0m\u001b[0;34m,\u001b[0m \u001b[0mdescription\u001b[0m\u001b[0;34m,\u001b[0m \u001b[0mhost_port\u001b[0m\u001b[0;34m=\u001b[0m\u001b[0muri\u001b[0m\u001b[0;34m.\u001b[0m\u001b[0mhost_port\u001b[0m\u001b[0;34m)\u001b[0m\u001b[0;34m\u001b[0m\u001b[0m\n\u001b[0m\u001b[1;32m    329\u001b[0m     \u001b[0;32melse\u001b[0m\u001b[0;34m:\u001b[0m\u001b[0;34m\u001b[0m\u001b[0m\n\u001b[1;32m    330\u001b[0m         \u001b[0;32mreturn\u001b[0m \u001b[0mhttp\u001b[0m\u001b[0;34m,\u001b[0m \u001b[0mresponse\u001b[0m\u001b[0;34m\u001b[0m\u001b[0m\n",
        "\u001b[0;31mSocketError\u001b[0m: Connection refused"
       ]
      }
     ],
     "prompt_number": 18
    },
    {
     "cell_type": "code",
     "collapsed": false,
     "input": [
      "tw = t._twitter"
     ],
     "language": "python",
     "metadata": {},
     "outputs": [],
     "prompt_number": 3
    },
    {
     "cell_type": "code",
     "collapsed": false,
     "input": [
      "f=tw.friends_ids(\"davedelaney\",cursor=-1)"
     ],
     "language": "python",
     "metadata": {},
     "outputs": [],
     "prompt_number": 29
    },
    {
     "cell_type": "code",
     "collapsed": false,
     "input": [
      "f[1]"
     ],
     "language": "python",
     "metadata": {},
     "outputs": [
      {
       "metadata": {},
       "output_type": "pyout",
       "prompt_number": 22,
       "text": [
        "(-1285494992273522059, 0)"
       ]
      }
     ],
     "prompt_number": 22
    },
    {
     "cell_type": "code",
     "collapsed": false,
     "input": [
      "len(f[0])"
     ],
     "language": "python",
     "metadata": {},
     "outputs": [
      {
       "metadata": {},
       "output_type": "pyout",
       "prompt_number": 30,
       "text": [
        "5000"
       ]
      }
     ],
     "prompt_number": 30
    },
    {
     "cell_type": "code",
     "collapsed": false,
     "input": [
      "def a():\n",
      "    return (1,2)\n",
      "\n",
      "b1,b2=a()\n",
      "b1\n"
     ],
     "language": "python",
     "metadata": {},
     "outputs": [
      {
       "metadata": {},
       "output_type": "pyout",
       "prompt_number": 25,
       "text": [
        "1"
       ]
      }
     ],
     "prompt_number": 25
    },
    {
     "cell_type": "code",
     "collapsed": false,
     "input": [],
     "language": "python",
     "metadata": {},
     "outputs": []
    }
   ],
   "metadata": {}
  }
 ]
}