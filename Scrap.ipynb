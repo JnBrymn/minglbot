{
 "metadata": {
  "name": ""
 },
 "nbformat": 3,
 "nbformat_minor": 0,
 "worksheets": [
  {
   "cells": [
    {
     "cell_type": "code",
     "collapsed": false,
     "input": [
      "class User(object):\n",
      "    def __repr__(self):\n",
      "        return \"some user\"\n",
      "    \n",
      "input = [123,\"asdf\",\"wert\",2345, User(), User(), 345,\"sdaf\", User()]\n",
      "\n",
      "ids = []\n",
      "screen_names = []\n",
      "users = []\n",
      "for u in input:\n",
      "    if isinstance(u,int):\n",
      "        ids.append(u)\n",
      "    elif isinstance(u,str):\n",
      "        screen_names.append(u)\n",
      "    elif isinstance(u,User):\n",
      "        users.append(u)\n",
      "    else:\n",
      "        print u\n",
      "print \"ids\", ids\n",
      "print \"screen_names\",screen_names\n",
      "print \"users\",users"
     ],
     "language": "python",
     "metadata": {},
     "outputs": [
      {
       "output_type": "stream",
       "stream": "stdout",
       "text": [
        "ids [123, 2345, 345]\n",
        "screen_names ['asdf', 'wert', 'sdaf']\n",
        "users [some user, some user, some user]\n"
       ]
      }
     ],
     "prompt_number": 87
    },
    {
     "cell_type": "code",
     "collapsed": false,
     "input": [
      "if isinstance([],list):\n",
      "    print \"asdf\""
     ],
     "language": "python",
     "metadata": {},
     "outputs": [
      {
       "output_type": "stream",
       "stream": "stdout",
       "text": [
        "asdf\n"
       ]
      }
     ],
     "prompt_number": 88
    },
    {
     "cell_type": "code",
     "collapsed": false,
     "input": [
      "def split_up_input(input,types):\n",
      "    if not isinstance(input,list):\n",
      "        input = [input]\n",
      "    vals = []\n",
      "    for t in types:\n",
      "        this_type_vals = []\n",
      "        vals.append(this_type_vals)\n",
      "        for i in input:\n",
      "            if isinstance(i,t):\n",
      "                this_type_vals.append(i)\n",
      "    return vals\n",
      "\n",
      "input = [123,\"asdf\",\"wert\",2345, User(), User(), 345,\"sdaf\", User()]\n",
      "\n",
      "split_up_input(input,[str,int,User])"
     ],
     "language": "python",
     "metadata": {},
     "outputs": [
      {
       "metadata": {},
       "output_type": "pyout",
       "prompt_number": 91,
       "text": [
        "[['asdf', 'wert', 'sdaf'], [123, 2345, 345], [some user, some user, some user]]"
       ]
      }
     ],
     "prompt_number": 91
    },
    {
     "cell_type": "code",
     "collapsed": false,
     "input": [
      "from collections import defaultdict\n",
      "\n",
      "def split_up_input(input,types,error_on_unknown_type=True):\n",
      "    if not isinstance(input,list):\n",
      "        input = [input]\n",
      "    d = defaultdict(list)\n",
      "    for i in input:\n",
      "        for t,n in types.iteritems():\n",
      "            if isinstance(i,t):\n",
      "                d[n].append(i)\n",
      "                break\n",
      "        else:\n",
      "            if error_on_unknown_type:\n",
      "                raise Exception(\"unsupported %s\" % type(i))\n",
      "                #TODO log\n",
      "    d.default_factory = lambda:None\n",
      "    return d\n",
      "\n",
      "input = [123,\"asdf\",\"wert\",2345, User(), User(), 345,\"sdaf\", User()]\n",
      "\n",
      "d=split_up_input(input,{str:\"screen_names\",int:\"ids\",User:\"users\"})\n",
      "print d[\"ids\"]\n",
      "print d[\"screen_names\"]\n",
      "print d[\"users\"]\n",
      "print d[\"qwerqwer\"]"
     ],
     "language": "python",
     "metadata": {},
     "outputs": [
      {
       "output_type": "stream",
       "stream": "stdout",
       "text": [
        "[123, 2345, 345]\n",
        "['asdf', 'wert', 'sdaf']\n",
        "[some user, some user, some user]\n",
        "None\n"
       ]
      }
     ],
     "prompt_number": 138
    },
    {
     "cell_type": "code",
     "collapsed": false,
     "input": [
      "d.default_factory= None"
     ],
     "language": "python",
     "metadata": {},
     "outputs": [],
     "prompt_number": 134
    },
    {
     "cell_type": "code",
     "collapsed": false,
     "input": [
      "(lambda x:None)(4)\n"
     ],
     "language": "python",
     "metadata": {},
     "outputs": [],
     "prompt_number": 128
    },
    {
     "cell_type": "code",
     "collapsed": false,
     "input": [],
     "language": "python",
     "metadata": {},
     "outputs": []
    }
   ],
   "metadata": {}
  }
 ]
}