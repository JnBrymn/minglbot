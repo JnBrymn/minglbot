{
 "metadata": {
  "name": ""
 },
 "nbformat": 3,
 "nbformat_minor": 0,
 "worksheets": [
  {
   "cells": [
    {
     "cell_type": "code",
     "collapsed": false,
     "input": [
      "import minglbot\n",
      "import os\n",
      "reload(minglbot)\n",
      "m = minglbot.MinglBot(os.getenv(\"TWITTER_CONSUMER_KEY\"), os.getenv(\"TWITTER_CONSUMER_SECRET\"))\n",
      "user1=1\n",
      "user2=28881634\n",
      "user3=\"kmbrymn\"\n",
      "m._delete_user_from_neo4j(user1)\n",
      "m._delete_user_from_neo4j(user2)\n",
      "m._delete_user_from_neo4j(user3)\n",
      "neo4j.CypherQuery(m.graph,\"\"\"\n",
      "    CREATE (u:User{id:{user1},screen_name:\"blabla\"})\n",
      "    SET u.hydrated_at = 1234\n",
      "\"\"\").run(user1=user1)\n",
      "neo4j.CypherQuery(m.graph,\"\"\"\n",
      "    CREATE (u:User{id:{user2}})\n",
      "\"\"\").run(user2=user2)\n",
      "us = m.hydrate_users([user1,user2,user3])\n",
      "try:\n",
      "    us[0][\"name\"] == None\n",
      "except KeyError:\n",
      "    assert \"We expect a key error because the user was marked as hydrated even though it doesn't have a name\"\n",
      "assert us[1][\"name\"] == \"John Berryman\"\n",
      "assert us[2][\"name\"] == \"Kumiko Berryman\""
     ],
     "language": "python",
     "metadata": {},
     "outputs": [],
     "prompt_number": 60
    },
    {
     "cell_type": "markdown",
     "metadata": {},
     "source": [
      "Typical Usage\n",
      "============"
     ]
    },
    {
     "cell_type": "code",
     "collapsed": false,
     "input": [
      "cville_irc = [\"mattdawson\",\"rduplain\",\"amontalenti\",\"andrewroycarter\",\"caseydriscoll\",\"fuzzybinary\",\"kaigroner\",\"mattyohe\",\"koosh_ball\",\n",
      " \"jeffpamer\",\"patriciagorla\",\"Juntray\",\"trrunng\",\"juphoff\",\"vince_riv\"]\n",
      "cville_irc_unknown = [\"centrelink\",\"ben husobee\",\"jasonsee\",\"kedyburn\",\"kevinwelcher\",\"landon_\",\"lexvegas\",\"meekohi\",\"Rolf Braun\",\"kerekrekrker\",\n",
      " \"rileyc\",\"wer\"]\n",
      "osc = [\"jnbrymn\",\"softwaredoug\",\"dep4b\",\"omnifroodle\",\"jwoodell\",\"scottstults\",\"patriciagorla\",\"danielbeach\",\"hull_j\"]\n",
      "screen_names = cville_irc\n",
      "#screen_names.extend(osc)\n",
      "friends = m.get_mutual_friends(screen_names=screen_names)\n",
      "m.hydrate_users(screen_names=friends[8])"
     ],
     "language": "python",
     "metadata": {},
     "outputs": [
      {
       "ename": "AttributeError",
       "evalue": "'User' object has no attribute 'lower'",
       "output_type": "pyerr",
       "traceback": [
        "\u001b[0;31m---------------------------------------------------------------------------\u001b[0m\n\u001b[0;31mAttributeError\u001b[0m                            Traceback (most recent call last)",
        "\u001b[0;32m<ipython-input-29-abb10f22a45c>\u001b[0m in \u001b[0;36m<module>\u001b[0;34m()\u001b[0m\n\u001b[1;32m      7\u001b[0m \u001b[0;31m#screen_names.extend(osc)\u001b[0m\u001b[0;34m\u001b[0m\u001b[0;34m\u001b[0m\u001b[0m\n\u001b[1;32m      8\u001b[0m \u001b[0mfriends\u001b[0m \u001b[0;34m=\u001b[0m \u001b[0mm\u001b[0m\u001b[0;34m.\u001b[0m\u001b[0mget_mutual_friends\u001b[0m\u001b[0;34m(\u001b[0m\u001b[0mscreen_names\u001b[0m\u001b[0;34m=\u001b[0m\u001b[0mscreen_names\u001b[0m\u001b[0;34m)\u001b[0m\u001b[0;34m\u001b[0m\u001b[0m\n\u001b[0;32m----> 9\u001b[0;31m \u001b[0mm\u001b[0m\u001b[0;34m.\u001b[0m\u001b[0mhydrate_users\u001b[0m\u001b[0;34m(\u001b[0m\u001b[0mscreen_names\u001b[0m\u001b[0;34m=\u001b[0m\u001b[0mfriends\u001b[0m\u001b[0;34m[\u001b[0m\u001b[0;36m8\u001b[0m\u001b[0;34m]\u001b[0m\u001b[0;34m)\u001b[0m\u001b[0;34m\u001b[0m\u001b[0m\n\u001b[0m",
        "\u001b[0;32m/Users/jnbrymn/Personal/Programming/MidlBot/python/minglbot.py\u001b[0m in \u001b[0;36mhydrate_users\u001b[0;34m(self, ids, screen_names, users)\u001b[0m\n\u001b[1;32m    270\u001b[0m         \u001b[0mlogging\u001b[0m\u001b[0;34m.\u001b[0m\u001b[0minfo\u001b[0m\u001b[0;34m(\u001b[0m\u001b[0;34m\"Hydrating ids (%s) and screen_names (%s) and users (%s) from neo4j\"\u001b[0m\u001b[0;34m,\u001b[0m\u001b[0mids\u001b[0m\u001b[0;34m,\u001b[0m\u001b[0mscreen_names\u001b[0m\u001b[0;34m,\u001b[0m\u001b[0musers\u001b[0m\u001b[0;34m)\u001b[0m\u001b[0;34m\u001b[0m\u001b[0m\n\u001b[1;32m    271\u001b[0m         \u001b[0;32mif\u001b[0m \u001b[0mscreen_names\u001b[0m\u001b[0;34m:\u001b[0m\u001b[0;34m\u001b[0m\u001b[0m\n\u001b[0;32m--> 272\u001b[0;31m             \u001b[0mscreen_names\u001b[0m \u001b[0;34m=\u001b[0m \u001b[0;34m[\u001b[0m\u001b[0mscreen_name\u001b[0m\u001b[0;34m.\u001b[0m\u001b[0mlower\u001b[0m\u001b[0;34m(\u001b[0m\u001b[0;34m)\u001b[0m \u001b[0;32mfor\u001b[0m \u001b[0mscreen_name\u001b[0m \u001b[0;32min\u001b[0m \u001b[0mscreen_names\u001b[0m\u001b[0;34m]\u001b[0m\u001b[0;34m\u001b[0m\u001b[0m\n\u001b[0m\u001b[1;32m    273\u001b[0m         \u001b[0mhydrated_users\u001b[0m \u001b[0;34m=\u001b[0m \u001b[0;34m[\u001b[0m\u001b[0;34m]\u001b[0m\u001b[0;34m\u001b[0m\u001b[0m\n\u001b[1;32m    274\u001b[0m \u001b[0;34m\u001b[0m\u001b[0m\n",
        "\u001b[0;31mAttributeError\u001b[0m: 'User' object has no attribute 'lower'"
       ]
      }
     ],
     "prompt_number": 29
    },
    {
     "cell_type": "code",
     "collapsed": false,
     "input": [
      "for i in xrange(117,20000):\n",
      "    try:\n",
      "        m.hydrate_users(screen_names=[str(i)])\n",
      "    except:\n",
      "        pass"
     ],
     "language": "python",
     "metadata": {},
     "outputs": [],
     "prompt_number": "*"
    },
    {
     "cell_type": "code",
     "collapsed": false,
     "input": [
      "friends[8]"
     ],
     "language": "python",
     "metadata": {},
     "outputs": [
      {
       "metadata": {},
       "output_type": "pyout",
       "prompt_number": 30,
       "text": [
        "[User(id=15251388,screen_name=heybluez)]"
       ]
      }
     ],
     "prompt_number": 30
    },
    {
     "cell_type": "code",
     "collapsed": false,
     "input": [
      "friend[1]"
     ],
     "language": "python",
     "metadata": {},
     "outputs": [
      {
       "metadata": {},
       "output_type": "pyout",
       "prompt_number": 16,
       "text": [
        "[]"
       ]
      }
     ],
     "prompt_number": 16
    },
    {
     "cell_type": "code",
     "collapsed": false,
     "input": [
      "friends = m.get_mutual_friends(screen_names=[\"jnbrymn\",\"jnbrymn\"])"
     ],
     "language": "python",
     "metadata": {},
     "outputs": [],
     "prompt_number": 79
    },
    {
     "cell_type": "code",
     "collapsed": false,
     "input": [
      "def has_friend(m,user_screen_name,friend_id):\n",
      "    #TODO change to user,friend (can be id,screen_name,or user)\n",
      "    result = neo4j.CypherQuery(m.graph,\"\"\"\n",
      "        MATCH (u:User{screen_name:LOWER({screen_name})})-[:FOLLOWS]->(f:User{id:{id}})\n",
      "        RETURN COUNT(*)\n",
      "    \"\"\").execute_one(screen_name=user_screen_name,id=friend_id)\n",
      "    return result\n",
      "    if result == 1:\n",
      "        return True\n",
      "    else:\n",
      "        return False"
     ],
     "language": "python",
     "metadata": {},
     "outputs": [],
     "prompt_number": 22
    },
    {
     "cell_type": "code",
     "collapsed": false,
     "input": [
      "import minglbot\n",
      "import os\n",
      "reload(minglbot)\n",
      "m = minglbot.MinglBot(os.getenv(\"TWITTER_CONSUMER_KEY\"), os.getenv(\"TWITTER_CONSUMER_SECRET\"))\n",
      "\n",
      "user1=1\n",
      "user2=28881634\n",
      "user3=\"kmbrymn\"\n",
      "m._delete_user_from_neo4j(user1)\n",
      "m._delete_user_from_neo4j(user2)\n",
      "m._delete_user_from_neo4j(user3)\n",
      "neo4j.CypherQuery(m.graph,\"\"\"\n",
      "    CREATE (u:User{id:{user1},screen_name:\"blabla\"})\n",
      "    SET u.hydrated_at = 1234\n",
      "\"\"\").run(user1=user1)\n",
      "neo4j.CypherQuery(m.graph,\"\"\"\n",
      "    CREATE (u:User{id:{user2}})\n",
      "\"\"\").run(user2=user2)\n",
      "us = m.hydrate_users([user1,user2,user3])\n",
      "try:\n",
      "    us[0][\"name\"] == None\n",
      "except KeyError:\n",
      "    assert \"We expect a key error because the user was marked as hydrated even though it doesn't have a name\"\n",
      "assert us[1][\"name\"] == \"John Berryman\"\n",
      "assert us[2][\"name\"] == \"Kumiko Berryman\""
     ],
     "language": "python",
     "metadata": {},
     "outputs": [],
     "prompt_number": 59
    },
    {
     "cell_type": "code",
     "collapsed": false,
     "input": [
      "211         input = MinglBot.split_up_input(users,{int:\"ids\",str:\"screen_names\"})\n",
      "212         ids = input[\"ids\"]\n",
      "213         screen_names = input[\"screen_names\"]\n",
      "\n",
      "\n",
      "\n",
      " 82     @classmethod\n",
      " 83     def split_up_input(cls,input,types_map,error_on_unknown_type=True):\n",
      " 84         if not isinstance(input,list):\n",
      " 85             input = [input]\n",
      " 86         d = defaultdict(list)\n",
      " 87         for i in input:\n",
      " 88             for t,n in types_map.iteritems():\n",
      " 89                 if isinstance(i,t):\n",
      " 90                     d[n].append(i)\n",
      " 91                     break\n",
      " 92             else:\n",
      " 93                 if error_on_unknown_type:\n",
      " 94                     raise Exception(\"unsupported %s\" % type(i))\n",
      " 95                     logger.error(\"unsupported %s\" % type(i))\n",
      " 96         d.default_factory = lambda:None\n",
      " 97         return d"
     ],
     "language": "python",
     "metadata": {},
     "outputs": [],
     "prompt_number": 19
    },
    {
     "cell_type": "code",
     "collapsed": false,
     "input": [
      "m.twitter.lookup_users(user_ids=None, screen_names=[\"jnbrymn\"])"
     ],
     "language": "python",
     "metadata": {},
     "outputs": [
      {
       "ename": "TweepError",
       "evalue": "[{u'message': u'Could not authenticate you', u'code': 32}]",
       "output_type": "pyerr",
       "traceback": [
        "\u001b[0;31m---------------------------------------------------------------------------\u001b[0m\n\u001b[0;31mTweepError\u001b[0m                                Traceback (most recent call last)",
        "\u001b[0;32m<ipython-input-43-3687ff143642>\u001b[0m in \u001b[0;36m<module>\u001b[0;34m()\u001b[0m\n\u001b[0;32m----> 1\u001b[0;31m \u001b[0mm\u001b[0m\u001b[0;34m.\u001b[0m\u001b[0mtwitter\u001b[0m\u001b[0;34m.\u001b[0m\u001b[0mlookup_users\u001b[0m\u001b[0;34m(\u001b[0m\u001b[0muser_ids\u001b[0m\u001b[0;34m=\u001b[0m\u001b[0mNone\u001b[0m\u001b[0;34m,\u001b[0m \u001b[0mscreen_names\u001b[0m\u001b[0;34m=\u001b[0m\u001b[0;34m[\u001b[0m\u001b[0;34m\"jnbrymn\"\u001b[0m\u001b[0;34m]\u001b[0m\u001b[0;34m)\u001b[0m\u001b[0;34m\u001b[0m\u001b[0m\n\u001b[0m",
        "\u001b[0;32m/Users/jnbrymn/anaconda/lib/python2.7/site-packages/tweepy/api.pyc\u001b[0m in \u001b[0;36mlookup_users\u001b[0;34m(self, user_ids, screen_names)\u001b[0m\n\u001b[1;32m    154\u001b[0m     \u001b[0;34m\"\"\" Perform bulk look up of users from user ID or screenname \"\"\"\u001b[0m\u001b[0;34m\u001b[0m\u001b[0m\n\u001b[1;32m    155\u001b[0m     \u001b[0;32mdef\u001b[0m \u001b[0mlookup_users\u001b[0m\u001b[0;34m(\u001b[0m\u001b[0mself\u001b[0m\u001b[0;34m,\u001b[0m \u001b[0muser_ids\u001b[0m\u001b[0;34m=\u001b[0m\u001b[0mNone\u001b[0m\u001b[0;34m,\u001b[0m \u001b[0mscreen_names\u001b[0m\u001b[0;34m=\u001b[0m\u001b[0mNone\u001b[0m\u001b[0;34m)\u001b[0m\u001b[0;34m:\u001b[0m\u001b[0;34m\u001b[0m\u001b[0m\n\u001b[0;32m--> 156\u001b[0;31m         \u001b[0;32mreturn\u001b[0m \u001b[0mself\u001b[0m\u001b[0;34m.\u001b[0m\u001b[0m_lookup_users\u001b[0m\u001b[0;34m(\u001b[0m\u001b[0mlist_to_csv\u001b[0m\u001b[0;34m(\u001b[0m\u001b[0muser_ids\u001b[0m\u001b[0;34m)\u001b[0m\u001b[0;34m,\u001b[0m \u001b[0mlist_to_csv\u001b[0m\u001b[0;34m(\u001b[0m\u001b[0mscreen_names\u001b[0m\u001b[0;34m)\u001b[0m\u001b[0;34m)\u001b[0m\u001b[0;34m\u001b[0m\u001b[0m\n\u001b[0m\u001b[1;32m    157\u001b[0m \u001b[0;34m\u001b[0m\u001b[0m\n\u001b[1;32m    158\u001b[0m     _lookup_users = bind_api(\n",
        "\u001b[0;32m/Users/jnbrymn/anaconda/lib/python2.7/site-packages/tweepy/binder.pyc\u001b[0m in \u001b[0;36m_call\u001b[0;34m(api, *args, **kargs)\u001b[0m\n\u001b[1;32m    198\u001b[0m \u001b[0;34m\u001b[0m\u001b[0m\n\u001b[1;32m    199\u001b[0m         \u001b[0mmethod\u001b[0m \u001b[0;34m=\u001b[0m \u001b[0mAPIMethod\u001b[0m\u001b[0;34m(\u001b[0m\u001b[0mapi\u001b[0m\u001b[0;34m,\u001b[0m \u001b[0margs\u001b[0m\u001b[0;34m,\u001b[0m \u001b[0mkargs\u001b[0m\u001b[0;34m)\u001b[0m\u001b[0;34m\u001b[0m\u001b[0m\n\u001b[0;32m--> 200\u001b[0;31m         \u001b[0;32mreturn\u001b[0m \u001b[0mmethod\u001b[0m\u001b[0;34m.\u001b[0m\u001b[0mexecute\u001b[0m\u001b[0;34m(\u001b[0m\u001b[0;34m)\u001b[0m\u001b[0;34m\u001b[0m\u001b[0m\n\u001b[0m\u001b[1;32m    201\u001b[0m \u001b[0;34m\u001b[0m\u001b[0m\n\u001b[1;32m    202\u001b[0m \u001b[0;34m\u001b[0m\u001b[0m\n",
        "\u001b[0;32m/Users/jnbrymn/anaconda/lib/python2.7/site-packages/tweepy/binder.pyc\u001b[0m in \u001b[0;36mexecute\u001b[0;34m(self)\u001b[0m\n\u001b[1;32m    174\u001b[0m                 \u001b[0;32mexcept\u001b[0m \u001b[0mException\u001b[0m\u001b[0;34m:\u001b[0m\u001b[0;34m\u001b[0m\u001b[0m\n\u001b[1;32m    175\u001b[0m                     \u001b[0merror_msg\u001b[0m \u001b[0;34m=\u001b[0m \u001b[0;34m\"Twitter error response: status code = %s\"\u001b[0m \u001b[0;34m%\u001b[0m \u001b[0mresp\u001b[0m\u001b[0;34m.\u001b[0m\u001b[0mstatus\u001b[0m\u001b[0;34m\u001b[0m\u001b[0m\n\u001b[0;32m--> 176\u001b[0;31m                 \u001b[0;32mraise\u001b[0m \u001b[0mTweepError\u001b[0m\u001b[0;34m(\u001b[0m\u001b[0merror_msg\u001b[0m\u001b[0;34m,\u001b[0m \u001b[0mresp\u001b[0m\u001b[0;34m)\u001b[0m\u001b[0;34m\u001b[0m\u001b[0m\n\u001b[0m\u001b[1;32m    177\u001b[0m \u001b[0;34m\u001b[0m\u001b[0m\n\u001b[1;32m    178\u001b[0m             \u001b[0;31m# Parse the response payload\u001b[0m\u001b[0;34m\u001b[0m\u001b[0;34m\u001b[0m\u001b[0m\n",
        "\u001b[0;31mTweepError\u001b[0m: [{u'message': u'Could not authenticate you', u'code': 32}]"
       ]
      }
     ],
     "prompt_number": 43
    },
    {
     "cell_type": "code",
     "collapsed": false,
     "input": [
      "ids = None\n",
      "screen_names = [3]\n",
      "if (ids and len(ids)>0) or (screen_names and len(screen_names)>0) :\n",
      "    print True"
     ],
     "language": "python",
     "metadata": {},
     "outputs": [
      {
       "output_type": "stream",
       "stream": "stdout",
       "text": [
        "True\n"
       ]
      }
     ],
     "prompt_number": 56
    },
    {
     "cell_type": "code",
     "collapsed": false,
     "input": [
      "not(ids and len(ids)>0) and not(screen_names and len(screen_names)>0)\n",
      "(not ids or not len(ids)>0) and (not screen_names or not len(screen_names)>0)\n",
      "(not ids or not len(ids)>0) and (not screen_names or not len(screen_names)>0)"
     ],
     "language": "python",
     "metadata": {},
     "outputs": []
    }
   ],
   "metadata": {}
  }
 ]
}