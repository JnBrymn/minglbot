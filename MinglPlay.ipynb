{
 "metadata": {
  "name": ""
 },
 "nbformat": 3,
 "nbformat_minor": 0,
 "worksheets": [
  {
   "cells": [
    {
     "cell_type": "code",
     "collapsed": false,
     "input": [
      "import mingl\n",
      "reload(mingl)\n",
      "import os\n",
      "\n",
      "m = mingl.Mingl(os.getenv(\"TWITTER_CONSUMER_KEY\"), os.getenv(\"TWITTER_CONSUMER_SECRET\"))"
     ],
     "language": "python",
     "metadata": {},
     "outputs": [],
     "prompt_number": 9
    },
    {
     "cell_type": "code",
     "collapsed": false,
     "input": [
      "osc=[\"dep4b\",\"hull_j\",\"scottstults\",\"omnifroodle\",\"jnbrymn\",\"softwaredoug\",\"danielbeach\",\"patriciagorla\",\"jwoodell\"]\n",
      "datascience=[\"hmason\",\"analyticbridge\",\"strataconf\",\"DataKind\",\"DataScienceCtrl\",\"kaggle\",\"ds_ldn\",\"simplystats\",\n",
      "             \"peteskomoroch\",\"BerkeleyData\",\"algoriffic\",\"JaffrayW\",\"josh_wills\",\"cloudera\",\"ted_dunning\",\n",
      "             \"NateSilver538\",\"pfreez\"]\n",
      "cville_irc = [\"mattdawson\",\"rduplain\",\"amontalenti\",\"andrewroycarter\",\"caseydriscoll\",\"fuzzybinary\",\n",
      "              \"kaigroner\",\"mattyohe\",\"koosh_ball\",\"jeffpamer\",\"patriciagorla\",\"Juntray\",\"trrunng\",\n",
      "              \"juphoff\",\"vince_riv\",\"jasonsee\",\"meekohi\",\"RufusRizzo78\",\"globedope\",\"lmcdowell\",\"coshx\"]\n",
      "cville_irc_unknown = [\"centrelink\",\"lexvegas\",\"Rolf Braun\",\"kerekrekrker\"]\n",
      "twitter_magic_recs = [\"truthseeker1985\",\"3_stan\",\"vzhabiuk\",\"ekozak\",\"sgurumur\",\"ajeet\",\"pankaj\",\"venusatuluri\"]\n",
      "python=[\"ThePSF\",\"pycon\",\"dabeaz\",\"PythonQuestions\",\"64BitsPerMinute\",\"rduplain\",\"amontalenti\",\"alex_gaynor\",\n",
      "        \"dartdog\",\"amfarrell\",\"catherinedevlin\",\"mtrier\",\"Streamweaver\",\"patriciagorla\",\"gvanrossum\",\"ianbicking\"]\n",
      "walterbacon=[\"walterbacon\"]\n",
      "lyft = [\"lyft\",\"lyft_diaries\",\"LyftFM\",\"ILoveLyft\",\"ArtLyft\",\"hiphoplyft\",\"aimzuck\",\"Bakari\",\"johnzimmer\",\"emilycastor\"]\n",
      "uvahackers = [\"UVaHackers\"]#interesting person to hack\n",
      "possible_bug = ['preetamjinka', 'superninjarobot', 'pfreez', 'meekohi', 'AgentO3', 'coshx', 'beingspencer', 'jnbrymn', 'cl4rk3', 'capehart', 'metasim', 'gburnett_dba']\n"
     ],
     "language": "python",
     "metadata": {},
     "outputs": [],
     "prompt_number": 10
    },
    {
     "cell_type": "code",
     "collapsed": false,
     "input": [
      "m.get_friends(possible_bug)"
     ],
     "language": "python",
     "metadata": {},
     "outputs": [
      {
       "metadata": {},
       "output_type": "pyout",
       "prompt_number": 11,
       "text": [
        "GroupedUsers([(10, [User(id=19463693,screen_name=None), User(id=14632982,screen_name=None), User(id=28881634,screen_name=None), User(id=34270918,screen_name=None), User(id=22809596,screen_name=None)]), (9, [User(id=28325059,screen_name=None), User(id=15205886,screen_name=None), User(id=567271096,screen_name=None)]), (8, [User(id=14465856,screen_name=None), User(id=38686230,screen_name=None)]), (7, [User(id=15420878,screen_name=None), User(id=36646572,screen_name=None), User(id=479004438,screen_name=None), User(id=17902122,screen_name=None), User(id=19033910,screen_name=None), User(id=302840829,screen_name=None), User(id=42432542,screen_name=None)]), (6, [User(id=11278772,screen_name=None), User(id=826463318,screen_name=None), User(id=15251388,screen_name=None), User(id=760627034,screen_name=None), User(id=92863066,screen_name=None), User(id=24618459,screen_name=None), User(id=15429973,screen_name=None), User(id=1135802857,screen_name=None), User(id=17275644,screen_name=None), User(id=15935772,screen_name=None), User(id=11141672,screen_name=None), User(id=773709,screen_name=None), User(id=1969762429,screen_name=None)]), (5, [User(id=550004180,screen_name=None), User(id=6898452,screen_name=None), User(id=22587551,screen_name=None), User(id=277109244,screen_name=None), User(id=6884122,screen_name=None), User(id=297974311,screen_name=None), User(id=8435082,screen_name=None), User(id=61948411,screen_name=None), User(id=1673014824,screen_name=None), User(id=52788956,screen_name=None), User(id=101496282,screen_name=None)]), (4, [User(id=355421898,screen_name=None), User(id=14747497,screen_name=None), User(id=734146236,screen_name=None), User(id=30027532,screen_name=None), User(id=450331119,screen_name=None), User(id=149681402,screen_name=None), User(id=534806930,screen_name=None), User(id=5528,screen_name=None), User(id=1176789733,screen_name=None), User(id=18905581,screen_name=None), User(id=58964753,screen_name=None), User(id=22193049,screen_name=None), User(id=206283535,screen_name=None), User(id=837863988,screen_name=None), User(id=6472302,screen_name=None), User(id=259016411,screen_name=None), User(id=17136814,screen_name=None), User(id=836835031,screen_name=None), User(id=55674289,screen_name=None), User(id=897351,screen_name=None), User(id=8792052,screen_name=None), User(id=63315790,screen_name=None), User(id=10165302,screen_name=None), User(id=87225131,screen_name=None), User(id=23121464,screen_name=None), User(id=19112628,screen_name=None)]), (3, [User(id=98181234,screen_name=None), User(id=44196397,screen_name=None), User(id=14068603,screen_name=None), User(id=1583103985,screen_name=None), User(id=126226388,screen_name=None), User(id=17980180,screen_name=None), User(id=107926561,screen_name=None), User(id=17117978,screen_name=None), User(id=66432490,screen_name=None), User(id=752422021,screen_name=None), User(id=119498926,screen_name=None), User(id=333361819,screen_name=None), User(id=16340597,screen_name=None), User(id=797183,screen_name=None), User(id=365949960,screen_name=None), User(id=134554277,screen_name=None), User(id=221902776,screen_name=None), User(id=234815846,screen_name=None), User(id=14344469,screen_name=None), User(id=54621207,screen_name=None), User(id=62581962,screen_name=None), User(id=14571055,screen_name=None), User(id=586803,screen_name=None), User(id=17866700,screen_name=None), User(id=15274071,screen_name=None), User(id=29868557,screen_name=None), User(id=139956094,screen_name=None), User(id=18519434,screen_name=None), User(id=214357120,screen_name=None), User(id=14317610,screen_name=None), User(id=16669933,screen_name=None), User(id=2168804167,screen_name=None), User(id=52553230,screen_name=None)])])"
       ]
      }
     ],
     "prompt_number": 11
    },
    {
     "cell_type": "code",
     "collapsed": false,
     "input": [
      "def stalk(screen_name):\n",
      "    friends = [f.id for f in m.get_friends(screen_name,limit=5000).get_all()]\n",
      "    followers = [f.id for f in m.get_followers(screen_name,limit=5000).get_all()]\n",
      "\n",
      "    #hydrate mutual users 100 at a time\n",
      "    mutual = list(set(friends).intersection(set(followers)))\n",
      "    n=100\n",
      "    l = len(mutual)\n",
      "    print \"num mutual friends = {0}\".format(l)\n",
      "    mutual_sets = [mutual[n*i:n*i+n] for i in range(l/n)]\n",
      "    if (l%n) != 0:\n",
      "        mutual_sets.append(mutual[-(l%n):])\n",
      "    for ms in mutual_sets:\n",
      "        m.hydrate_users(ms)\n",
      "        \n",
      "    m.get_friends(mutual)\n",
      "    m.get_followers(mutual)\n",
      "stalk(\"pauldix\")"
     ],
     "language": "python",
     "metadata": {},
     "outputs": [
      {
       "ename": "KeyboardInterrupt",
       "evalue": "",
       "output_type": "pyerr",
       "traceback": [
        "\u001b[0;31m---------------------------------------------------------------------------\u001b[0m\n\u001b[0;31mKeyboardInterrupt\u001b[0m                         Traceback (most recent call last)",
        "\u001b[0;32m<ipython-input-150-74c279f47949>\u001b[0m in \u001b[0;36m<module>\u001b[0;34m()\u001b[0m\n\u001b[1;32m     16\u001b[0m     \u001b[0mm\u001b[0m\u001b[0;34m.\u001b[0m\u001b[0mget_friends\u001b[0m\u001b[0;34m(\u001b[0m\u001b[0mmutual\u001b[0m\u001b[0;34m)\u001b[0m\u001b[0;34m\u001b[0m\u001b[0m\n\u001b[1;32m     17\u001b[0m     \u001b[0mm\u001b[0m\u001b[0;34m.\u001b[0m\u001b[0mget_followers\u001b[0m\u001b[0;34m(\u001b[0m\u001b[0mmutual\u001b[0m\u001b[0;34m)\u001b[0m\u001b[0;34m\u001b[0m\u001b[0m\n\u001b[0;32m---> 18\u001b[0;31m \u001b[0mstalk\u001b[0m\u001b[0;34m(\u001b[0m\u001b[0;34m\"pauldix\"\u001b[0m\u001b[0;34m)\u001b[0m\u001b[0;34m\u001b[0m\u001b[0m\n\u001b[0m",
        "\u001b[0;32m<ipython-input-150-74c279f47949>\u001b[0m in \u001b[0;36mstalk\u001b[0;34m(screen_name)\u001b[0m\n\u001b[1;32m     14\u001b[0m         \u001b[0mm\u001b[0m\u001b[0;34m.\u001b[0m\u001b[0mhydrate_users\u001b[0m\u001b[0;34m(\u001b[0m\u001b[0mms\u001b[0m\u001b[0;34m)\u001b[0m\u001b[0;34m\u001b[0m\u001b[0m\n\u001b[1;32m     15\u001b[0m \u001b[0;34m\u001b[0m\u001b[0m\n\u001b[0;32m---> 16\u001b[0;31m     \u001b[0mm\u001b[0m\u001b[0;34m.\u001b[0m\u001b[0mget_friends\u001b[0m\u001b[0;34m(\u001b[0m\u001b[0mmutual\u001b[0m\u001b[0;34m)\u001b[0m\u001b[0;34m\u001b[0m\u001b[0m\n\u001b[0m\u001b[1;32m     17\u001b[0m     \u001b[0mm\u001b[0m\u001b[0;34m.\u001b[0m\u001b[0mget_followers\u001b[0m\u001b[0;34m(\u001b[0m\u001b[0mmutual\u001b[0m\u001b[0;34m)\u001b[0m\u001b[0;34m\u001b[0m\u001b[0m\n\u001b[1;32m     18\u001b[0m \u001b[0mstalk\u001b[0m\u001b[0;34m(\u001b[0m\u001b[0;34m\"pauldix\"\u001b[0m\u001b[0;34m)\u001b[0m\u001b[0;34m\u001b[0m\u001b[0m\n",
        "\u001b[0;32m/Users/jnbrymn/Personal/Programming/MidlBot/python/mingl.py\u001b[0m in \u001b[0;36mget_friends\u001b[0;34m(self, users, num_to_use, limit, min_num_mutual_friends)\u001b[0m\n\u001b[1;32m    464\u001b[0m             \u001b[0mmin_num_mutual_friends\u001b[0m\u001b[0;34m=\u001b[0m\u001b[0;36m1\u001b[0m\u001b[0;34m\u001b[0m\u001b[0m\n\u001b[1;32m    465\u001b[0m             ):\n\u001b[0;32m--> 466\u001b[0;31m         \u001b[0;32mreturn\u001b[0m \u001b[0mself\u001b[0m\u001b[0;34m.\u001b[0m\u001b[0mget_relations\u001b[0m\u001b[0;34m(\u001b[0m\u001b[0musers\u001b[0m\u001b[0;34m,\u001b[0m\u001b[0;34m\"friends\"\u001b[0m\u001b[0;34m,\u001b[0m\u001b[0mnum_to_use\u001b[0m\u001b[0;34m,\u001b[0m\u001b[0mlimit\u001b[0m\u001b[0;34m,\u001b[0m\u001b[0mmin_num_mutual_friends\u001b[0m\u001b[0;34m)\u001b[0m\u001b[0;34m\u001b[0m\u001b[0m\n\u001b[0m\u001b[1;32m    467\u001b[0m \u001b[0;34m\u001b[0m\u001b[0m\n\u001b[1;32m    468\u001b[0m     def get_followers(self,\n",
        "\u001b[0;32m/Users/jnbrymn/Personal/Programming/MidlBot/python/mingl.py\u001b[0m in \u001b[0;36mget_relations\u001b[0;34m(self, users, direction, num_to_use, limit, min_num_mutual_relations)\u001b[0m\n\u001b[1;32m    451\u001b[0m             \u001b[0mscreen_names\u001b[0m\u001b[0;34m=\u001b[0m\u001b[0mall_screen_names\u001b[0m\u001b[0;34m,\u001b[0m\u001b[0;34m\u001b[0m\u001b[0m\n\u001b[1;32m    452\u001b[0m             \u001b[0mlimit\u001b[0m\u001b[0;34m=\u001b[0m\u001b[0mlimit\u001b[0m\u001b[0;34m,\u001b[0m\u001b[0;34m\u001b[0m\u001b[0m\n\u001b[0;32m--> 453\u001b[0;31m             \u001b[0mmin_num_mutual_relations\u001b[0m\u001b[0;34m=\u001b[0m\u001b[0mmin_num_mutual_relations\u001b[0m\u001b[0;34m\u001b[0m\u001b[0m\n\u001b[0m\u001b[1;32m    454\u001b[0m         )\n\u001b[1;32m    455\u001b[0m         \u001b[0mrelations\u001b[0m \u001b[0;34m=\u001b[0m \u001b[0mdefaultdict\u001b[0m\u001b[0;34m(\u001b[0m\u001b[0mlist\u001b[0m\u001b[0;34m)\u001b[0m\u001b[0;34m\u001b[0m\u001b[0m\n",
        "\u001b[0;32m/Users/jnbrymn/anaconda/lib/python2.7/site-packages/py2neo/neo4j.pyc\u001b[0m in \u001b[0;36mexecute\u001b[0;34m(self, **params)\u001b[0m\n\u001b[1;32m   1075\u001b[0m         \u001b[0;34m:\u001b[0m\u001b[0mrtype\u001b[0m\u001b[0;34m:\u001b[0m \u001b[0;34m:\u001b[0m\u001b[0mpy\u001b[0m\u001b[0;34m:\u001b[0m\u001b[0;32mclass\u001b[0m\u001b[0;34m:\u001b[0m\u001b[0;34m`\u001b[0m\u001b[0mCypherResults\u001b[0m \u001b[0;34m<\u001b[0m\u001b[0mpy2neo\u001b[0m\u001b[0;34m.\u001b[0m\u001b[0mneo4j\u001b[0m\u001b[0;34m.\u001b[0m\u001b[0mCypherResults\u001b[0m\u001b[0;34m>\u001b[0m\u001b[0;34m`\u001b[0m\u001b[0;34m\u001b[0m\u001b[0m\n\u001b[1;32m   1076\u001b[0m         \"\"\"\n\u001b[0;32m-> 1077\u001b[0;31m         \u001b[0;32mreturn\u001b[0m \u001b[0mCypherResults\u001b[0m\u001b[0;34m(\u001b[0m\u001b[0mself\u001b[0m\u001b[0;34m.\u001b[0m\u001b[0m_execute\u001b[0m\u001b[0;34m(\u001b[0m\u001b[0;34m**\u001b[0m\u001b[0mparams\u001b[0m\u001b[0;34m)\u001b[0m\u001b[0;34m)\u001b[0m\u001b[0;34m\u001b[0m\u001b[0m\n\u001b[0m\u001b[1;32m   1078\u001b[0m \u001b[0;34m\u001b[0m\u001b[0m\n\u001b[1;32m   1079\u001b[0m     \u001b[0;32mdef\u001b[0m \u001b[0mexecute_one\u001b[0m\u001b[0;34m(\u001b[0m\u001b[0mself\u001b[0m\u001b[0;34m,\u001b[0m \u001b[0;34m**\u001b[0m\u001b[0mparams\u001b[0m\u001b[0;34m)\u001b[0m\u001b[0;34m:\u001b[0m\u001b[0;34m\u001b[0m\u001b[0m\n",
        "\u001b[0;32m/Users/jnbrymn/anaconda/lib/python2.7/site-packages/py2neo/neo4j.pyc\u001b[0m in \u001b[0;36m_execute\u001b[0;34m(self, **params)\u001b[0m\n\u001b[1;32m   1049\u001b[0m             return self._cypher._post({\n\u001b[1;32m   1050\u001b[0m                 \u001b[0;34m\"query\"\u001b[0m\u001b[0;34m:\u001b[0m \u001b[0mself\u001b[0m\u001b[0;34m.\u001b[0m\u001b[0m_query\u001b[0m\u001b[0;34m,\u001b[0m\u001b[0;34m\u001b[0m\u001b[0m\n\u001b[0;32m-> 1051\u001b[0;31m                 \u001b[0;34m\"params\"\u001b[0m\u001b[0;34m:\u001b[0m \u001b[0mdict\u001b[0m\u001b[0;34m(\u001b[0m\u001b[0mparams\u001b[0m \u001b[0;32mor\u001b[0m \u001b[0;34m{\u001b[0m\u001b[0;34m}\u001b[0m\u001b[0;34m)\u001b[0m\u001b[0;34m,\u001b[0m\u001b[0;34m\u001b[0m\u001b[0m\n\u001b[0m\u001b[1;32m   1052\u001b[0m             })\n\u001b[1;32m   1053\u001b[0m         \u001b[0;32mexcept\u001b[0m \u001b[0mClientError\u001b[0m \u001b[0;32mas\u001b[0m \u001b[0me\u001b[0m\u001b[0;34m:\u001b[0m\u001b[0;34m\u001b[0m\u001b[0m\n",
        "\u001b[0;32m/Users/jnbrymn/anaconda/lib/python2.7/site-packages/py2neo/neo4j.pyc\u001b[0m in \u001b[0;36m_post\u001b[0;34m(self, body)\u001b[0m\n\u001b[1;32m    366\u001b[0m             return self._resource.post(body=body,\n\u001b[1;32m    367\u001b[0m                                        \u001b[0mheaders\u001b[0m\u001b[0;34m=\u001b[0m\u001b[0mself\u001b[0m\u001b[0;34m.\u001b[0m\u001b[0m_headers\u001b[0m\u001b[0;34m,\u001b[0m\u001b[0;34m\u001b[0m\u001b[0m\n\u001b[0;32m--> 368\u001b[0;31m                                        product=self._product)\n\u001b[0m\u001b[1;32m    369\u001b[0m         \u001b[0;32mexcept\u001b[0m \u001b[0m_ClientError\u001b[0m \u001b[0;32mas\u001b[0m \u001b[0me\u001b[0m\u001b[0;34m:\u001b[0m\u001b[0;34m\u001b[0m\u001b[0m\n\u001b[1;32m    370\u001b[0m             \u001b[0;32mraise\u001b[0m \u001b[0mClientError\u001b[0m\u001b[0;34m(\u001b[0m\u001b[0me\u001b[0m\u001b[0;34m)\u001b[0m\u001b[0;34m\u001b[0m\u001b[0m\n",
        "\u001b[0;32m/Users/jnbrymn/anaconda/lib/python2.7/site-packages/py2neo/packages/httpstream/http.pyc\u001b[0m in \u001b[0;36mpost\u001b[0;34m(self, body, headers, **kwargs)\u001b[0m\n\u001b[1;32m    813\u001b[0m         \"\"\"\n\u001b[1;32m    814\u001b[0m         \u001b[0mrq\u001b[0m \u001b[0;34m=\u001b[0m \u001b[0mRequest\u001b[0m\u001b[0;34m(\u001b[0m\u001b[0;34m\"POST\"\u001b[0m\u001b[0;34m,\u001b[0m \u001b[0mself\u001b[0m\u001b[0;34m.\u001b[0m\u001b[0m_uri\u001b[0m\u001b[0;34m,\u001b[0m \u001b[0mbody\u001b[0m\u001b[0;34m,\u001b[0m \u001b[0mheaders\u001b[0m\u001b[0;34m)\u001b[0m\u001b[0;34m\u001b[0m\u001b[0m\n\u001b[0;32m--> 815\u001b[0;31m         \u001b[0;32mreturn\u001b[0m \u001b[0mrq\u001b[0m\u001b[0;34m.\u001b[0m\u001b[0msubmit\u001b[0m\u001b[0;34m(\u001b[0m\u001b[0;34m**\u001b[0m\u001b[0mkwargs\u001b[0m\u001b[0;34m)\u001b[0m\u001b[0;34m\u001b[0m\u001b[0m\n\u001b[0m\u001b[1;32m    816\u001b[0m \u001b[0;34m\u001b[0m\u001b[0m\n\u001b[1;32m    817\u001b[0m     \u001b[0;32mdef\u001b[0m \u001b[0mdelete\u001b[0m\u001b[0;34m(\u001b[0m\u001b[0mself\u001b[0m\u001b[0;34m,\u001b[0m \u001b[0mheaders\u001b[0m\u001b[0;34m=\u001b[0m\u001b[0mNone\u001b[0m\u001b[0;34m,\u001b[0m \u001b[0;34m**\u001b[0m\u001b[0mkwargs\u001b[0m\u001b[0;34m)\u001b[0m\u001b[0;34m:\u001b[0m\u001b[0;34m\u001b[0m\u001b[0m\n",
        "\u001b[0;32m/Users/jnbrymn/anaconda/lib/python2.7/site-packages/py2neo/packages/httpstream/http.pyc\u001b[0m in \u001b[0;36msubmit\u001b[0;34m(self, redirect_limit, product, **response_kwargs)\u001b[0m\n\u001b[1;32m    386\u001b[0m         \u001b[0mheaders\u001b[0m\u001b[0;34m.\u001b[0m\u001b[0msetdefault\u001b[0m\u001b[0;34m(\u001b[0m\u001b[0;34m\"User-Agent\"\u001b[0m\u001b[0;34m,\u001b[0m \u001b[0muser_agent\u001b[0m\u001b[0;34m(\u001b[0m\u001b[0mproduct\u001b[0m\u001b[0;34m)\u001b[0m\u001b[0;34m)\u001b[0m\u001b[0;34m\u001b[0m\u001b[0m\n\u001b[1;32m    387\u001b[0m         \u001b[0;32mwhile\u001b[0m \u001b[0mTrue\u001b[0m\u001b[0;34m:\u001b[0m\u001b[0;34m\u001b[0m\u001b[0m\n\u001b[0;32m--> 388\u001b[0;31m             \u001b[0mhttp\u001b[0m\u001b[0;34m,\u001b[0m \u001b[0mrs\u001b[0m \u001b[0;34m=\u001b[0m \u001b[0msubmit\u001b[0m\u001b[0;34m(\u001b[0m\u001b[0mself\u001b[0m\u001b[0;34m.\u001b[0m\u001b[0mmethod\u001b[0m\u001b[0;34m,\u001b[0m \u001b[0muri\u001b[0m\u001b[0;34m,\u001b[0m \u001b[0mself\u001b[0m\u001b[0;34m.\u001b[0m\u001b[0mbody\u001b[0m\u001b[0;34m,\u001b[0m \u001b[0mheaders\u001b[0m\u001b[0;34m)\u001b[0m\u001b[0;34m\u001b[0m\u001b[0m\n\u001b[0m\u001b[1;32m    389\u001b[0m             \u001b[0mstatus_class\u001b[0m \u001b[0;34m=\u001b[0m \u001b[0mrs\u001b[0m\u001b[0;34m.\u001b[0m\u001b[0mstatus\u001b[0m \u001b[0;34m//\u001b[0m \u001b[0;36m100\u001b[0m\u001b[0;34m\u001b[0m\u001b[0m\n\u001b[1;32m    390\u001b[0m             \u001b[0;32mif\u001b[0m \u001b[0mstatus_class\u001b[0m \u001b[0;34m==\u001b[0m \u001b[0;36m3\u001b[0m\u001b[0;34m:\u001b[0m\u001b[0;34m\u001b[0m\u001b[0m\n",
        "\u001b[0;32m/Users/jnbrymn/anaconda/lib/python2.7/site-packages/py2neo/packages/httpstream/http.pyc\u001b[0m in \u001b[0;36msubmit\u001b[0;34m(method, uri, body, headers)\u001b[0m\n\u001b[1;32m    286\u001b[0m     \u001b[0;32mtry\u001b[0m\u001b[0;34m:\u001b[0m\u001b[0;34m\u001b[0m\u001b[0m\n\u001b[1;32m    287\u001b[0m         \u001b[0;32mtry\u001b[0m\u001b[0;34m:\u001b[0m\u001b[0;34m\u001b[0m\u001b[0m\n\u001b[0;32m--> 288\u001b[0;31m             \u001b[0mresponse\u001b[0m \u001b[0;34m=\u001b[0m \u001b[0msend\u001b[0m\u001b[0;34m(\u001b[0m\u001b[0;34m)\u001b[0m\u001b[0;34m\u001b[0m\u001b[0m\n\u001b[0m\u001b[1;32m    289\u001b[0m         \u001b[0;32mexcept\u001b[0m \u001b[0mBadStatusLine\u001b[0m \u001b[0;32mas\u001b[0m \u001b[0merr\u001b[0m\u001b[0;34m:\u001b[0m\u001b[0;34m\u001b[0m\u001b[0m\n\u001b[1;32m    290\u001b[0m             \u001b[0;32mif\u001b[0m \u001b[0merr\u001b[0m\u001b[0;34m.\u001b[0m\u001b[0mline\u001b[0m \u001b[0;34m==\u001b[0m \u001b[0;34m\"''\"\u001b[0m\u001b[0;34m:\u001b[0m\u001b[0;34m\u001b[0m\u001b[0m\n",
        "\u001b[0;32m/Users/jnbrymn/anaconda/lib/python2.7/site-packages/py2neo/packages/httpstream/http.pyc\u001b[0m in \u001b[0;36msend\u001b[0;34m(reconnect)\u001b[0m\n\u001b[1;32m    280\u001b[0m         \u001b[0mhttp\u001b[0m\u001b[0;34m.\u001b[0m\u001b[0mrequest\u001b[0m\u001b[0;34m(\u001b[0m\u001b[0mmethod\u001b[0m\u001b[0;34m,\u001b[0m \u001b[0muri\u001b[0m\u001b[0;34m.\u001b[0m\u001b[0mabsolute_path_reference\u001b[0m\u001b[0;34m,\u001b[0m \u001b[0mbody\u001b[0m\u001b[0;34m,\u001b[0m \u001b[0mheaders\u001b[0m\u001b[0;34m)\u001b[0m\u001b[0;34m\u001b[0m\u001b[0m\n\u001b[1;32m    281\u001b[0m         \u001b[0;32mif\u001b[0m \u001b[0msupports_buffering\u001b[0m\u001b[0;34m:\u001b[0m\u001b[0;34m\u001b[0m\u001b[0m\n\u001b[0;32m--> 282\u001b[0;31m             \u001b[0;32mreturn\u001b[0m \u001b[0mhttp\u001b[0m\u001b[0;34m.\u001b[0m\u001b[0mgetresponse\u001b[0m\u001b[0;34m(\u001b[0m\u001b[0mbuffering\u001b[0m\u001b[0;34m=\u001b[0m\u001b[0mTrue\u001b[0m\u001b[0;34m)\u001b[0m\u001b[0;34m\u001b[0m\u001b[0m\n\u001b[0m\u001b[1;32m    283\u001b[0m         \u001b[0;32melse\u001b[0m\u001b[0;34m:\u001b[0m\u001b[0;34m\u001b[0m\u001b[0m\n\u001b[1;32m    284\u001b[0m             \u001b[0;32mreturn\u001b[0m \u001b[0mhttp\u001b[0m\u001b[0;34m.\u001b[0m\u001b[0mgetresponse\u001b[0m\u001b[0;34m(\u001b[0m\u001b[0;34m)\u001b[0m\u001b[0;34m\u001b[0m\u001b[0m\n",
        "\u001b[0;32m/Users/jnbrymn/anaconda/python.app/Contents/lib/python2.7/httplib.pyc\u001b[0m in \u001b[0;36mgetresponse\u001b[0;34m(self, buffering)\u001b[0m\n\u001b[1;32m   1043\u001b[0m         \u001b[0mresponse\u001b[0m \u001b[0;34m=\u001b[0m \u001b[0mself\u001b[0m\u001b[0;34m.\u001b[0m\u001b[0mresponse_class\u001b[0m\u001b[0;34m(\u001b[0m\u001b[0;34m*\u001b[0m\u001b[0margs\u001b[0m\u001b[0;34m,\u001b[0m \u001b[0;34m**\u001b[0m\u001b[0mkwds\u001b[0m\u001b[0;34m)\u001b[0m\u001b[0;34m\u001b[0m\u001b[0m\n\u001b[1;32m   1044\u001b[0m \u001b[0;34m\u001b[0m\u001b[0m\n\u001b[0;32m-> 1045\u001b[0;31m         \u001b[0mresponse\u001b[0m\u001b[0;34m.\u001b[0m\u001b[0mbegin\u001b[0m\u001b[0;34m(\u001b[0m\u001b[0;34m)\u001b[0m\u001b[0;34m\u001b[0m\u001b[0m\n\u001b[0m\u001b[1;32m   1046\u001b[0m         \u001b[0;32massert\u001b[0m \u001b[0mresponse\u001b[0m\u001b[0;34m.\u001b[0m\u001b[0mwill_close\u001b[0m \u001b[0;34m!=\u001b[0m \u001b[0m_UNKNOWN\u001b[0m\u001b[0;34m\u001b[0m\u001b[0m\n\u001b[1;32m   1047\u001b[0m         \u001b[0mself\u001b[0m\u001b[0;34m.\u001b[0m\u001b[0m__state\u001b[0m \u001b[0;34m=\u001b[0m \u001b[0m_CS_IDLE\u001b[0m\u001b[0;34m\u001b[0m\u001b[0m\n",
        "\u001b[0;32m/Users/jnbrymn/anaconda/python.app/Contents/lib/python2.7/httplib.pyc\u001b[0m in \u001b[0;36mbegin\u001b[0;34m(self)\u001b[0m\n\u001b[1;32m    407\u001b[0m         \u001b[0;31m# read until we get a non-100 response\u001b[0m\u001b[0;34m\u001b[0m\u001b[0;34m\u001b[0m\u001b[0m\n\u001b[1;32m    408\u001b[0m         \u001b[0;32mwhile\u001b[0m \u001b[0mTrue\u001b[0m\u001b[0;34m:\u001b[0m\u001b[0;34m\u001b[0m\u001b[0m\n\u001b[0;32m--> 409\u001b[0;31m             \u001b[0mversion\u001b[0m\u001b[0;34m,\u001b[0m \u001b[0mstatus\u001b[0m\u001b[0;34m,\u001b[0m \u001b[0mreason\u001b[0m \u001b[0;34m=\u001b[0m \u001b[0mself\u001b[0m\u001b[0;34m.\u001b[0m\u001b[0m_read_status\u001b[0m\u001b[0;34m(\u001b[0m\u001b[0;34m)\u001b[0m\u001b[0;34m\u001b[0m\u001b[0m\n\u001b[0m\u001b[1;32m    410\u001b[0m             \u001b[0;32mif\u001b[0m \u001b[0mstatus\u001b[0m \u001b[0;34m!=\u001b[0m \u001b[0mCONTINUE\u001b[0m\u001b[0;34m:\u001b[0m\u001b[0;34m\u001b[0m\u001b[0m\n\u001b[1;32m    411\u001b[0m                 \u001b[0;32mbreak\u001b[0m\u001b[0;34m\u001b[0m\u001b[0m\n",
        "\u001b[0;32m/Users/jnbrymn/anaconda/python.app/Contents/lib/python2.7/httplib.pyc\u001b[0m in \u001b[0;36m_read_status\u001b[0;34m(self)\u001b[0m\n\u001b[1;32m    363\u001b[0m     \u001b[0;32mdef\u001b[0m \u001b[0m_read_status\u001b[0m\u001b[0;34m(\u001b[0m\u001b[0mself\u001b[0m\u001b[0;34m)\u001b[0m\u001b[0;34m:\u001b[0m\u001b[0;34m\u001b[0m\u001b[0m\n\u001b[1;32m    364\u001b[0m         \u001b[0;31m# Initialize with Simple-Response defaults\u001b[0m\u001b[0;34m\u001b[0m\u001b[0;34m\u001b[0m\u001b[0m\n\u001b[0;32m--> 365\u001b[0;31m         \u001b[0mline\u001b[0m \u001b[0;34m=\u001b[0m \u001b[0mself\u001b[0m\u001b[0;34m.\u001b[0m\u001b[0mfp\u001b[0m\u001b[0;34m.\u001b[0m\u001b[0mreadline\u001b[0m\u001b[0;34m(\u001b[0m\u001b[0m_MAXLINE\u001b[0m \u001b[0;34m+\u001b[0m \u001b[0;36m1\u001b[0m\u001b[0;34m)\u001b[0m\u001b[0;34m\u001b[0m\u001b[0m\n\u001b[0m\u001b[1;32m    366\u001b[0m         \u001b[0;32mif\u001b[0m \u001b[0mlen\u001b[0m\u001b[0;34m(\u001b[0m\u001b[0mline\u001b[0m\u001b[0;34m)\u001b[0m \u001b[0;34m>\u001b[0m \u001b[0m_MAXLINE\u001b[0m\u001b[0;34m:\u001b[0m\u001b[0;34m\u001b[0m\u001b[0m\n\u001b[1;32m    367\u001b[0m             \u001b[0;32mraise\u001b[0m \u001b[0mLineTooLong\u001b[0m\u001b[0;34m(\u001b[0m\u001b[0;34m\"header line\"\u001b[0m\u001b[0;34m)\u001b[0m\u001b[0;34m\u001b[0m\u001b[0m\n",
        "\u001b[0;32m/Users/jnbrymn/anaconda/python.app/Contents/lib/python2.7/socket.pyc\u001b[0m in \u001b[0;36mreadline\u001b[0;34m(self, size)\u001b[0m\n\u001b[1;32m    474\u001b[0m             \u001b[0;32mwhile\u001b[0m \u001b[0mTrue\u001b[0m\u001b[0;34m:\u001b[0m\u001b[0;34m\u001b[0m\u001b[0m\n\u001b[1;32m    475\u001b[0m                 \u001b[0;32mtry\u001b[0m\u001b[0;34m:\u001b[0m\u001b[0;34m\u001b[0m\u001b[0m\n\u001b[0;32m--> 476\u001b[0;31m                     \u001b[0mdata\u001b[0m \u001b[0;34m=\u001b[0m \u001b[0mself\u001b[0m\u001b[0;34m.\u001b[0m\u001b[0m_sock\u001b[0m\u001b[0;34m.\u001b[0m\u001b[0mrecv\u001b[0m\u001b[0;34m(\u001b[0m\u001b[0mself\u001b[0m\u001b[0;34m.\u001b[0m\u001b[0m_rbufsize\u001b[0m\u001b[0;34m)\u001b[0m\u001b[0;34m\u001b[0m\u001b[0m\n\u001b[0m\u001b[1;32m    477\u001b[0m                 \u001b[0;32mexcept\u001b[0m \u001b[0merror\u001b[0m\u001b[0;34m,\u001b[0m \u001b[0me\u001b[0m\u001b[0;34m:\u001b[0m\u001b[0;34m\u001b[0m\u001b[0m\n\u001b[1;32m    478\u001b[0m                     \u001b[0;32mif\u001b[0m \u001b[0me\u001b[0m\u001b[0;34m.\u001b[0m\u001b[0margs\u001b[0m\u001b[0;34m[\u001b[0m\u001b[0;36m0\u001b[0m\u001b[0;34m]\u001b[0m \u001b[0;34m==\u001b[0m \u001b[0mEINTR\u001b[0m\u001b[0;34m:\u001b[0m\u001b[0;34m\u001b[0m\u001b[0m\n",
        "\u001b[0;31mKeyboardInterrupt\u001b[0m: "
       ]
      },
      {
       "output_type": "stream",
       "stream": "stdout",
       "text": [
        "num mutual friends = 441\n"
       ]
      }
     ],
     "prompt_number": 150
    },
    {
     "cell_type": "code",
     "collapsed": false,
     "input": [
      "friends=[]\n",
      "friends.extend(uvahackers)\n",
      "friends = m.get_friends(friends)"
     ],
     "language": "python",
     "metadata": {},
     "outputs": [],
     "prompt_number": 10
    },
    {
     "cell_type": "code",
     "collapsed": false,
     "input": [
      "friends = m.get_friends(friends)"
     ],
     "language": "python",
     "metadata": {},
     "outputs": [],
     "prompt_number": 11
    },
    {
     "cell_type": "code",
     "collapsed": false,
     "input": [
      "while True:\n",
      "    friends = m.get_friends(friends,num_to_use=25)"
     ],
     "language": "python",
     "metadata": {},
     "outputs": []
    },
    {
     "cell_type": "code",
     "collapsed": false,
     "input": [
      "friends = m.hydrate_users(friends)"
     ],
     "language": "python",
     "metadata": {},
     "outputs": [],
     "prompt_number": 15
    },
    {
     "cell_type": "code",
     "collapsed": false,
     "input": [
      "for k,v in friends.iteritems():\n",
      "    print k\n",
      "    for u in v:\n",
      "        #print \"\\t\", u.screen_name, u.id#,\"\\n\\t\\t\",u[\"name\"],\"\\n\\t\\t\",u[\"description\"],\"\\n\\n\"\n",
      "        print \"\\t\", u.screen_name"
     ],
     "language": "python",
     "metadata": {},
     "outputs": [
      {
       "ename": "AttributeError",
       "evalue": "'list' object has no attribute 'iteritems'",
       "output_type": "pyerr",
       "traceback": [
        "\u001b[0;31m---------------------------------------------------------------------------\u001b[0m\n\u001b[0;31mAttributeError\u001b[0m                            Traceback (most recent call last)",
        "\u001b[0;32m<ipython-input-16-24ff419a3926>\u001b[0m in \u001b[0;36m<module>\u001b[0;34m()\u001b[0m\n\u001b[0;32m----> 1\u001b[0;31m \u001b[0;32mfor\u001b[0m \u001b[0mk\u001b[0m\u001b[0;34m,\u001b[0m\u001b[0mv\u001b[0m \u001b[0;32min\u001b[0m \u001b[0mfriends\u001b[0m\u001b[0;34m.\u001b[0m\u001b[0miteritems\u001b[0m\u001b[0;34m(\u001b[0m\u001b[0;34m)\u001b[0m\u001b[0;34m:\u001b[0m\u001b[0;34m\u001b[0m\u001b[0m\n\u001b[0m\u001b[1;32m      2\u001b[0m     \u001b[0;32mprint\u001b[0m \u001b[0mk\u001b[0m\u001b[0;34m\u001b[0m\u001b[0m\n\u001b[1;32m      3\u001b[0m     \u001b[0;32mfor\u001b[0m \u001b[0mu\u001b[0m \u001b[0;32min\u001b[0m \u001b[0mv\u001b[0m\u001b[0;34m:\u001b[0m\u001b[0;34m\u001b[0m\u001b[0m\n\u001b[1;32m      4\u001b[0m         \u001b[0;31m#print \"\\t\", u.screen_name, u.id#,\"\\n\\t\\t\",u[\"name\"],\"\\n\\t\\t\",u[\"description\"],\"\\n\\n\"\u001b[0m\u001b[0;34m\u001b[0m\u001b[0;34m\u001b[0m\u001b[0m\n\u001b[1;32m      5\u001b[0m         \u001b[0;32mprint\u001b[0m \u001b[0;34m\"\\t\"\u001b[0m\u001b[0;34m,\u001b[0m \u001b[0mu\u001b[0m\u001b[0;34m.\u001b[0m\u001b[0mscreen_name\u001b[0m\u001b[0;34m\u001b[0m\u001b[0m\n",
        "\u001b[0;31mAttributeError\u001b[0m: 'list' object has no attribute 'iteritems'"
       ]
      }
     ],
     "prompt_number": 16
    },
    {
     "cell_type": "code",
     "collapsed": false,
     "input": [
      "friends.get_all()"
     ],
     "language": "python",
     "metadata": {},
     "outputs": []
    },
    {
     "cell_type": "markdown",
     "metadata": {},
     "source": [
      "#Trash Below Here"
     ]
    },
    {
     "cell_type": "code",
     "collapsed": false,
     "input": [
      "import math\n",
      "mutual = [1,2,3,4,5,6,7,8,9,1,2,3,4,5,6]\n",
      "n=7\n",
      "print len(mutual)\n",
      "print int(math.ceil((len(mutual)+1)/n))\n",
      "[mutual[n*i:n*i+n] for i in range(int(math.ceil((len(mutual)+1)/n)))]"
     ],
     "language": "python",
     "metadata": {},
     "outputs": [
      {
       "output_type": "stream",
       "stream": "stdout",
       "text": [
        "15\n",
        "2\n"
       ]
      },
      {
       "metadata": {},
       "output_type": "pyout",
       "prompt_number": 104,
       "text": [
        "[[1, 2, 3, 4, 5, 6, 7], [8, 9, 1, 2, 3, 4, 5]]"
       ]
      }
     ],
     "prompt_number": 104
    },
    {
     "cell_type": "code",
     "collapsed": false,
     "input": [
      "import math\n",
      "mutual = [1,2,3,4,5,6,7,8,9,1,2,3,4,5,6]\n",
      "n=100\n",
      "l = len(mutual)\n",
      "x = [mutual[n*i:n*i+n] for i in range(l/n)]\n",
      "if (l%n) != 0:\n",
      "    x.append(mutual[-(l%n):])\n",
      "print x"
     ],
     "language": "python",
     "metadata": {},
     "outputs": [
      {
       "output_type": "stream",
       "stream": "stdout",
       "text": [
        "[[1, 2, 3, 4, 5, 6, 7, 8, 9, 1, 2, 3, 4, 5, 6]]\n"
       ]
      }
     ],
     "prompt_number": 148
    },
    {
     "cell_type": "code",
     "collapsed": false,
     "input": [
      "len(users)"
     ],
     "language": "python",
     "metadata": {},
     "outputs": [
      {
       "metadata": {},
       "output_type": "pyout",
       "prompt_number": 59,
       "text": [
        "79"
       ]
      }
     ],
     "prompt_number": 59
    },
    {
     "cell_type": "code",
     "collapsed": false,
     "input": [
      "users=[15520445, 25359377, 21336728, 14474225, 17419073, 15750816, 7691392, 28391147, 16333843, 19364978, 18089163, 15314952, 6238012, 42443883, 1081, 168576040, 20880653, 14239492, 7321112, 14866489, 21524235, 15633914, 8953722, 15698507, 13840932, 101099964, 23039058, 305185609, 16546180, 12127422, 14071595, 249658365, 25616190, 117323970, 236048434, 145690983, 37372861, 18999530, 497457345, 17888143, 19016024, 15972351, 10157572, 18103771, 941251, 569569550, 598814125, 709313, 791124, 21883399, 14052798, 17501424, 336306325, 10688752, 22101297, 14216557, 13348, 36090605, 14761094, 14910629, 28917111, 149604434, 29057317, 11852522, 15080807, 5732432, 361228184, 1181581, 113130575, 14987617, 16196624, 20793727, 18079631, 720983636, 63648036, 14413529, 87178082, 10221, 25704389, 14367669, 9976962, 19669778, 42719624, 40774359, 489949753, 35701040, 33148268, 277042460, 469255706, 27046692, 1290484248, 1554809994, 195441534, 1349988288, 338199137, 1449889272, 989375978, 1465745413, 1395752414, 17178557, 1372460113, 21291150, 17260313, 1137701, 7860992, 243956258, 36620051, 18320874, 1434518635, 22312938, 1515064976, 10513712, 16327858, 18476633, 17786914, 17235352, 28598943, 23256633, 102806957, 23511448, 2365584349\t]\n",
      "m.hydrate_users(users[0:99])"
     ],
     "language": "python",
     "metadata": {},
     "outputs": [
      {
       "metadata": {},
       "output_type": "pyout",
       "prompt_number": 3,
       "text": [
        "[User(id=15520445,screen_name=marcuscohn),\n",
        " User(id=25359377,screen_name=zimride),\n",
        " User(id=21336728,screen_name=jennadc),\n",
        " User(id=14474225,screen_name=manukumar),\n",
        " User(id=17419073,screen_name=mrjessef),\n",
        " User(id=15750816,screen_name=margaretteich),\n",
        " User(id=7691392,screen_name=tameralee),\n",
        " User(id=28391147,screen_name=aaronimholt),\n",
        " User(id=16333843,screen_name=jessicascorpio),\n",
        " User(id=19364978,screen_name=zipcar),\n",
        " User(id=18089163,screen_name=bogusky),\n",
        " User(id=15314952,screen_name=tessap),\n",
        " User(id=6238012,screen_name=mvanhorn),\n",
        " User(id=42443883,screen_name=erintimony),\n",
        " User(id=1081,screen_name=davemcclure),\n",
        " User(id=168576040,screen_name=collcons),\n",
        " User(id=20880653,screen_name=rajatsuri),\n",
        " User(id=14239492,screen_name=cindywaters),\n",
        " User(id=7321112,screen_name=jamiek),\n",
        " User(id=14866489,screen_name=hestonl),\n",
        " User(id=21524235,screen_name=lisajayne415),\n",
        " User(id=15633914,screen_name=amit_patel),\n",
        " User(id=8953722,screen_name=hutchins),\n",
        " User(id=15698507,screen_name=scottbelsky),\n",
        " User(id=13840932,screen_name=juanchosiegel),\n",
        " User(id=101099964,screen_name=adambraun),\n",
        " User(id=23039058,screen_name=kip),\n",
        " User(id=305185609,screen_name=swgriffith),\n",
        " User(id=16546180,screen_name=skilaketahoe),\n",
        " User(id=12127422,screen_name=frankyoo),\n",
        " User(id=14071595,screen_name=evangoldin),\n",
        " User(id=249658365,screen_name=emilycastor),\n",
        " User(id=25616190,screen_name=l__anderson),\n",
        " User(id=117323970,screen_name=fishmanaf),\n",
        " User(id=236048434,screen_name=itsrayland),\n",
        " User(id=145690983,screen_name=harrisonbowden),\n",
        " User(id=37372861,screen_name=kaoscharm),\n",
        " User(id=18999530,screen_name=jeremyjjp),\n",
        " User(id=497457345,screen_name=projecttrustco),\n",
        " User(id=17888143,screen_name=jamiejwong),\n",
        " User(id=19016024,screen_name=instigating),\n",
        " User(id=15972351,screen_name=barbarapantuso),\n",
        " User(id=10157572,screen_name=nbrusson),\n",
        " User(id=18103771,screen_name=vorhaus),\n",
        " User(id=941251,screen_name=teknolog),\n",
        " User(id=569569550,screen_name=lyft),\n",
        " User(id=598814125,screen_name=lyftshannon),\n",
        " User(id=709313,screen_name=cfarivar),\n",
        " User(id=791124,screen_name=dlprager),\n",
        " User(id=21883399,screen_name=taskrabbit),\n",
        " User(id=14052798,screen_name=menace),\n",
        " User(id=17501424,screen_name=averylewis),\n",
        " User(id=336306325,screen_name=barberwalters),\n",
        " User(id=10688752,screen_name=jessywoman),\n",
        " User(id=22101297,screen_name=chaphansen),\n",
        " User(id=14216557,screen_name=johnheywood),\n",
        " User(id=13348,screen_name=scobleizer),\n",
        " User(id=36090605,screen_name=camillebrittany),\n",
        " User(id=14761094,screen_name=nandocho),\n",
        " User(id=14910629,screen_name=annimaniac),\n",
        " User(id=28917111,screen_name=justinkan),\n",
        " User(id=149604434,screen_name=jallaben),\n",
        " User(id=29057317,screen_name=ericafink),\n",
        " User(id=11852522,screen_name=samgustin),\n",
        " User(id=15080807,screen_name=sarah_ross),\n",
        " User(id=5732432,screen_name=saarsaar),\n",
        " User(id=361228184,screen_name=w_scottweiss),\n",
        " User(id=1181581,screen_name=koodot0),\n",
        " User(id=113130575,screen_name=tobyharriman),\n",
        " User(id=14987617,screen_name=kevinbusque),\n",
        " User(id=16196624,screen_name=laurensherman),\n",
        " User(id=20793727,screen_name=johnnybrackett),\n",
        " User(id=18079631,screen_name=mattmireles),\n",
        " User(id=720983636,screen_name=jonathanlally),\n",
        " User(id=63648036,screen_name=juliannairan),\n",
        " User(id=14413529,screen_name=melodymcc),\n",
        " User(id=87178082,screen_name=paulyting),\n",
        " User(id=10221,screen_name=drew),\n",
        " User(id=25704389,screen_name=kimmytaylor),\n",
        " User(id=14367669,screen_name=kimmaicutler),\n",
        " User(id=9976962,screen_name=paigecraig),\n",
        " User(id=19669778,screen_name=elvinabeck),\n",
        " User(id=42719624,screen_name=horrigan46),\n",
        " User(id=40774359,screen_name=tjhennessy),\n",
        " User(id=489949753,screen_name=sophiendriscoll),\n",
        " User(id=35701040,screen_name=mlevram),\n",
        " User(id=33148268,screen_name=zioziegler),\n",
        " User(id=277042460,screen_name=darrendub),\n",
        " User(id=469255706,screen_name=peterchungmusic),\n",
        " User(id=27046692,screen_name=lorakolodny),\n",
        " User(id=1290484248,screen_name=lyft_diaries),\n",
        " User(id=1554809994,screen_name=ilovelyft),\n",
        " User(id=195441534,screen_name=laurahuntstyle),\n",
        " User(id=1349988288,screen_name=batlyft),\n",
        " User(id=338199137,screen_name=hiimargaret),\n",
        " User(id=1449889272,screen_name=hiphoplyft),\n",
        " User(id=989375978,screen_name=lyftsean),\n",
        " User(id=1465745413,screen_name=cookiewarslyft),\n",
        " User(id=1395752414,screen_name=catlyft)]"
       ]
      }
     ],
     "prompt_number": 3
    },
    {
     "cell_type": "code",
     "collapsed": false,
     "input": [
      "set([1,2,3]).intersection(set([2,3,4]))"
     ],
     "language": "python",
     "metadata": {},
     "outputs": [
      {
       "metadata": {},
       "output_type": "pyout",
       "prompt_number": 65,
       "text": [
        "{2, 3}"
       ]
      }
     ],
     "prompt_number": 65
    },
    {
     "cell_type": "code",
     "collapsed": false,
     "input": [
      "stalk(\"DrSkippy27\")"
     ],
     "language": "python",
     "metadata": {},
     "outputs": [
      {
       "ename": "KeyboardInterrupt",
       "evalue": "",
       "output_type": "pyerr",
       "traceback": [
        "\u001b[0;31m---------------------------------------------------------------------------\u001b[0m\n\u001b[0;31mKeyboardInterrupt\u001b[0m                         Traceback (most recent call last)",
        "\u001b[0;32m<ipython-input-10-d31be724d08e>\u001b[0m in \u001b[0;36m<module>\u001b[0;34m()\u001b[0m\n\u001b[0;32m----> 1\u001b[0;31m \u001b[0mstalk\u001b[0m\u001b[0;34m(\u001b[0m\u001b[0;34m\"DrSkippy27\"\u001b[0m\u001b[0;34m)\u001b[0m\u001b[0;34m\u001b[0m\u001b[0m\n\u001b[0m",
        "\u001b[0;32m<ipython-input-7-9719b926e9ba>\u001b[0m in \u001b[0;36mstalk\u001b[0;34m(screen_name)\u001b[0m\n\u001b[1;32m      1\u001b[0m \u001b[0;32mdef\u001b[0m \u001b[0mstalk\u001b[0m\u001b[0;34m(\u001b[0m\u001b[0mscreen_name\u001b[0m\u001b[0;34m)\u001b[0m\u001b[0;34m:\u001b[0m\u001b[0;34m\u001b[0m\u001b[0m\n\u001b[0;32m----> 2\u001b[0;31m     \u001b[0mfriends\u001b[0m \u001b[0;34m=\u001b[0m \u001b[0;34m[\u001b[0m\u001b[0mf\u001b[0m\u001b[0;34m.\u001b[0m\u001b[0mid\u001b[0m \u001b[0;32mfor\u001b[0m \u001b[0mf\u001b[0m \u001b[0;32min\u001b[0m \u001b[0mm\u001b[0m\u001b[0;34m.\u001b[0m\u001b[0mget_friends\u001b[0m\u001b[0;34m(\u001b[0m\u001b[0mscreen_name\u001b[0m\u001b[0;34m,\u001b[0m\u001b[0mlimit\u001b[0m\u001b[0;34m=\u001b[0m\u001b[0;36m5000\u001b[0m\u001b[0;34m)\u001b[0m\u001b[0;34m.\u001b[0m\u001b[0mget_all\u001b[0m\u001b[0;34m(\u001b[0m\u001b[0;34m)\u001b[0m\u001b[0;34m]\u001b[0m\u001b[0;34m\u001b[0m\u001b[0m\n\u001b[0m\u001b[1;32m      3\u001b[0m     \u001b[0mfollowers\u001b[0m \u001b[0;34m=\u001b[0m \u001b[0;34m[\u001b[0m\u001b[0mf\u001b[0m\u001b[0;34m.\u001b[0m\u001b[0mid\u001b[0m \u001b[0;32mfor\u001b[0m \u001b[0mf\u001b[0m \u001b[0;32min\u001b[0m \u001b[0mm\u001b[0m\u001b[0;34m.\u001b[0m\u001b[0mget_followers\u001b[0m\u001b[0;34m(\u001b[0m\u001b[0mscreen_name\u001b[0m\u001b[0;34m,\u001b[0m\u001b[0mlimit\u001b[0m\u001b[0;34m=\u001b[0m\u001b[0;36m5000\u001b[0m\u001b[0;34m)\u001b[0m\u001b[0;34m.\u001b[0m\u001b[0mget_all\u001b[0m\u001b[0;34m(\u001b[0m\u001b[0;34m)\u001b[0m\u001b[0;34m]\u001b[0m\u001b[0;34m\u001b[0m\u001b[0m\n\u001b[1;32m      4\u001b[0m     \u001b[0mmutual\u001b[0m \u001b[0;34m=\u001b[0m \u001b[0mlist\u001b[0m\u001b[0;34m(\u001b[0m\u001b[0mset\u001b[0m\u001b[0;34m(\u001b[0m\u001b[0mfriends\u001b[0m\u001b[0;34m)\u001b[0m\u001b[0;34m.\u001b[0m\u001b[0mintersection\u001b[0m\u001b[0;34m(\u001b[0m\u001b[0mset\u001b[0m\u001b[0;34m(\u001b[0m\u001b[0mfollowers\u001b[0m\u001b[0;34m)\u001b[0m\u001b[0;34m)\u001b[0m\u001b[0;34m)\u001b[0m\u001b[0;34m\u001b[0m\u001b[0m\n\u001b[1;32m      5\u001b[0m     \u001b[0;32mprint\u001b[0m \u001b[0;34m\"num mutual friends = {0}\"\u001b[0m\u001b[0;34m.\u001b[0m\u001b[0mformat\u001b[0m\u001b[0;34m(\u001b[0m\u001b[0mlen\u001b[0m\u001b[0;34m(\u001b[0m\u001b[0mmutual\u001b[0m\u001b[0;34m)\u001b[0m\u001b[0;34m)\u001b[0m\u001b[0;34m\u001b[0m\u001b[0m\n",
        "\u001b[0;32m/Users/jnbrymn/Personal/Programming/MidlBot/python/mingl.py\u001b[0m in \u001b[0;36mget_friends\u001b[0;34m(self, users, num_to_use, limit, min_num_mutual_friends)\u001b[0m\n\u001b[1;32m    462\u001b[0m             \u001b[0mmin_num_mutual_friends\u001b[0m\u001b[0;34m=\u001b[0m\u001b[0;36m1\u001b[0m\u001b[0;34m\u001b[0m\u001b[0m\n\u001b[1;32m    463\u001b[0m             ):\n\u001b[0;32m--> 464\u001b[0;31m         \u001b[0;32mreturn\u001b[0m \u001b[0mself\u001b[0m\u001b[0;34m.\u001b[0m\u001b[0mget_relations\u001b[0m\u001b[0;34m(\u001b[0m\u001b[0musers\u001b[0m\u001b[0;34m,\u001b[0m\u001b[0;34m\"friends\"\u001b[0m\u001b[0;34m,\u001b[0m\u001b[0mnum_to_use\u001b[0m\u001b[0;34m,\u001b[0m\u001b[0mlimit\u001b[0m\u001b[0;34m,\u001b[0m\u001b[0mmin_num_mutual_friends\u001b[0m\u001b[0;34m)\u001b[0m\u001b[0;34m\u001b[0m\u001b[0m\n\u001b[0m\u001b[1;32m    465\u001b[0m \u001b[0;34m\u001b[0m\u001b[0m\n\u001b[1;32m    466\u001b[0m     def get_followers(self,\n",
        "\u001b[0;32m/Users/jnbrymn/Personal/Programming/MidlBot/python/mingl.py\u001b[0m in \u001b[0;36mget_relations\u001b[0;34m(self, users, direction, num_to_use, limit, min_num_mutual_relations)\u001b[0m\n\u001b[1;32m    420\u001b[0m             \u001b[0mRETURN\u001b[0m \u001b[0mu\u001b[0m\u001b[0;34m\u001b[0m\u001b[0m\n\u001b[1;32m    421\u001b[0m         \"\"\"\n\u001b[0;32m--> 422\u001b[0;31m         \u001b[0;32mfor\u001b[0m \u001b[0mu\u001b[0m \u001b[0;32min\u001b[0m \u001b[0mneo4j\u001b[0m\u001b[0;34m.\u001b[0m\u001b[0mCypherQuery\u001b[0m\u001b[0;34m(\u001b[0m\u001b[0mself\u001b[0m\u001b[0;34m.\u001b[0m\u001b[0mgraph\u001b[0m\u001b[0;34m,\u001b[0m\u001b[0mgetUsersQuery\u001b[0m\u001b[0;34m)\u001b[0m\u001b[0;34m.\u001b[0m\u001b[0mexecute\u001b[0m\u001b[0;34m(\u001b[0m\u001b[0mids\u001b[0m\u001b[0;34m=\u001b[0m\u001b[0mids\u001b[0m\u001b[0;34m,\u001b[0m\u001b[0mscreen_names\u001b[0m\u001b[0;34m=\u001b[0m\u001b[0mscreen_names\u001b[0m\u001b[0;34m)\u001b[0m\u001b[0;34m:\u001b[0m\u001b[0;34m\u001b[0m\u001b[0m\n\u001b[0m\u001b[1;32m    423\u001b[0m             \u001b[0muser\u001b[0m \u001b[0;34m=\u001b[0m \u001b[0mu\u001b[0m\u001b[0;34m.\u001b[0m\u001b[0mvalues\u001b[0m\u001b[0;34m[\u001b[0m\u001b[0;36m0\u001b[0m\u001b[0;34m]\u001b[0m\u001b[0;34m\u001b[0m\u001b[0m\n\u001b[1;32m    424\u001b[0m             \u001b[0;32mif\u001b[0m \u001b[0muser\u001b[0m\u001b[0;34m[\u001b[0m\u001b[0mdirection\u001b[0m\u001b[0;34m+\u001b[0m\u001b[0;34m\"_found_at\"\u001b[0m\u001b[0;34m]\u001b[0m\u001b[0;34m:\u001b[0m\u001b[0;34m\u001b[0m\u001b[0m\n",
        "\u001b[0;32m/Users/jnbrymn/anaconda/lib/python2.7/site-packages/py2neo/neo4j.pyc\u001b[0m in \u001b[0;36mexecute\u001b[0;34m(self, **params)\u001b[0m\n\u001b[1;32m   1075\u001b[0m         \u001b[0;34m:\u001b[0m\u001b[0mrtype\u001b[0m\u001b[0;34m:\u001b[0m \u001b[0;34m:\u001b[0m\u001b[0mpy\u001b[0m\u001b[0;34m:\u001b[0m\u001b[0;32mclass\u001b[0m\u001b[0;34m:\u001b[0m\u001b[0;34m`\u001b[0m\u001b[0mCypherResults\u001b[0m \u001b[0;34m<\u001b[0m\u001b[0mpy2neo\u001b[0m\u001b[0;34m.\u001b[0m\u001b[0mneo4j\u001b[0m\u001b[0;34m.\u001b[0m\u001b[0mCypherResults\u001b[0m\u001b[0;34m>\u001b[0m\u001b[0;34m`\u001b[0m\u001b[0;34m\u001b[0m\u001b[0m\n\u001b[1;32m   1076\u001b[0m         \"\"\"\n\u001b[0;32m-> 1077\u001b[0;31m         \u001b[0;32mreturn\u001b[0m \u001b[0mCypherResults\u001b[0m\u001b[0;34m(\u001b[0m\u001b[0mself\u001b[0m\u001b[0;34m.\u001b[0m\u001b[0m_execute\u001b[0m\u001b[0;34m(\u001b[0m\u001b[0;34m**\u001b[0m\u001b[0mparams\u001b[0m\u001b[0;34m)\u001b[0m\u001b[0;34m)\u001b[0m\u001b[0;34m\u001b[0m\u001b[0m\n\u001b[0m\u001b[1;32m   1078\u001b[0m \u001b[0;34m\u001b[0m\u001b[0m\n\u001b[1;32m   1079\u001b[0m     \u001b[0;32mdef\u001b[0m \u001b[0mexecute_one\u001b[0m\u001b[0;34m(\u001b[0m\u001b[0mself\u001b[0m\u001b[0;34m,\u001b[0m \u001b[0;34m**\u001b[0m\u001b[0mparams\u001b[0m\u001b[0;34m)\u001b[0m\u001b[0;34m:\u001b[0m\u001b[0;34m\u001b[0m\u001b[0m\n",
        "\u001b[0;32m/Users/jnbrymn/anaconda/lib/python2.7/site-packages/py2neo/neo4j.pyc\u001b[0m in \u001b[0;36m_execute\u001b[0;34m(self, **params)\u001b[0m\n\u001b[1;32m   1049\u001b[0m             return self._cypher._post({\n\u001b[1;32m   1050\u001b[0m                 \u001b[0;34m\"query\"\u001b[0m\u001b[0;34m:\u001b[0m \u001b[0mself\u001b[0m\u001b[0;34m.\u001b[0m\u001b[0m_query\u001b[0m\u001b[0;34m,\u001b[0m\u001b[0;34m\u001b[0m\u001b[0m\n\u001b[0;32m-> 1051\u001b[0;31m                 \u001b[0;34m\"params\"\u001b[0m\u001b[0;34m:\u001b[0m \u001b[0mdict\u001b[0m\u001b[0;34m(\u001b[0m\u001b[0mparams\u001b[0m \u001b[0;32mor\u001b[0m \u001b[0;34m{\u001b[0m\u001b[0;34m}\u001b[0m\u001b[0;34m)\u001b[0m\u001b[0;34m,\u001b[0m\u001b[0;34m\u001b[0m\u001b[0m\n\u001b[0m\u001b[1;32m   1052\u001b[0m             })\n\u001b[1;32m   1053\u001b[0m         \u001b[0;32mexcept\u001b[0m \u001b[0mClientError\u001b[0m \u001b[0;32mas\u001b[0m \u001b[0me\u001b[0m\u001b[0;34m:\u001b[0m\u001b[0;34m\u001b[0m\u001b[0m\n",
        "\u001b[0;32m/Users/jnbrymn/anaconda/lib/python2.7/site-packages/py2neo/neo4j.pyc\u001b[0m in \u001b[0;36m_post\u001b[0;34m(self, body)\u001b[0m\n\u001b[1;32m    366\u001b[0m             return self._resource.post(body=body,\n\u001b[1;32m    367\u001b[0m                                        \u001b[0mheaders\u001b[0m\u001b[0;34m=\u001b[0m\u001b[0mself\u001b[0m\u001b[0;34m.\u001b[0m\u001b[0m_headers\u001b[0m\u001b[0;34m,\u001b[0m\u001b[0;34m\u001b[0m\u001b[0m\n\u001b[0;32m--> 368\u001b[0;31m                                        product=self._product)\n\u001b[0m\u001b[1;32m    369\u001b[0m         \u001b[0;32mexcept\u001b[0m \u001b[0m_ClientError\u001b[0m \u001b[0;32mas\u001b[0m \u001b[0me\u001b[0m\u001b[0;34m:\u001b[0m\u001b[0;34m\u001b[0m\u001b[0m\n\u001b[1;32m    370\u001b[0m             \u001b[0;32mraise\u001b[0m \u001b[0mClientError\u001b[0m\u001b[0;34m(\u001b[0m\u001b[0me\u001b[0m\u001b[0;34m)\u001b[0m\u001b[0;34m\u001b[0m\u001b[0m\n",
        "\u001b[0;32m/Users/jnbrymn/anaconda/lib/python2.7/site-packages/py2neo/packages/httpstream/http.pyc\u001b[0m in \u001b[0;36mpost\u001b[0;34m(self, body, headers, **kwargs)\u001b[0m\n\u001b[1;32m    813\u001b[0m         \"\"\"\n\u001b[1;32m    814\u001b[0m         \u001b[0mrq\u001b[0m \u001b[0;34m=\u001b[0m \u001b[0mRequest\u001b[0m\u001b[0;34m(\u001b[0m\u001b[0;34m\"POST\"\u001b[0m\u001b[0;34m,\u001b[0m \u001b[0mself\u001b[0m\u001b[0;34m.\u001b[0m\u001b[0m_uri\u001b[0m\u001b[0;34m,\u001b[0m \u001b[0mbody\u001b[0m\u001b[0;34m,\u001b[0m \u001b[0mheaders\u001b[0m\u001b[0;34m)\u001b[0m\u001b[0;34m\u001b[0m\u001b[0m\n\u001b[0;32m--> 815\u001b[0;31m         \u001b[0;32mreturn\u001b[0m \u001b[0mrq\u001b[0m\u001b[0;34m.\u001b[0m\u001b[0msubmit\u001b[0m\u001b[0;34m(\u001b[0m\u001b[0;34m**\u001b[0m\u001b[0mkwargs\u001b[0m\u001b[0;34m)\u001b[0m\u001b[0;34m\u001b[0m\u001b[0m\n\u001b[0m\u001b[1;32m    816\u001b[0m \u001b[0;34m\u001b[0m\u001b[0m\n\u001b[1;32m    817\u001b[0m     \u001b[0;32mdef\u001b[0m \u001b[0mdelete\u001b[0m\u001b[0;34m(\u001b[0m\u001b[0mself\u001b[0m\u001b[0;34m,\u001b[0m \u001b[0mheaders\u001b[0m\u001b[0;34m=\u001b[0m\u001b[0mNone\u001b[0m\u001b[0;34m,\u001b[0m \u001b[0;34m**\u001b[0m\u001b[0mkwargs\u001b[0m\u001b[0;34m)\u001b[0m\u001b[0;34m:\u001b[0m\u001b[0;34m\u001b[0m\u001b[0m\n",
        "\u001b[0;32m/Users/jnbrymn/anaconda/lib/python2.7/site-packages/py2neo/packages/httpstream/http.pyc\u001b[0m in \u001b[0;36msubmit\u001b[0;34m(self, redirect_limit, product, **response_kwargs)\u001b[0m\n\u001b[1;32m    386\u001b[0m         \u001b[0mheaders\u001b[0m\u001b[0;34m.\u001b[0m\u001b[0msetdefault\u001b[0m\u001b[0;34m(\u001b[0m\u001b[0;34m\"User-Agent\"\u001b[0m\u001b[0;34m,\u001b[0m \u001b[0muser_agent\u001b[0m\u001b[0;34m(\u001b[0m\u001b[0mproduct\u001b[0m\u001b[0;34m)\u001b[0m\u001b[0;34m)\u001b[0m\u001b[0;34m\u001b[0m\u001b[0m\n\u001b[1;32m    387\u001b[0m         \u001b[0;32mwhile\u001b[0m \u001b[0mTrue\u001b[0m\u001b[0;34m:\u001b[0m\u001b[0;34m\u001b[0m\u001b[0m\n\u001b[0;32m--> 388\u001b[0;31m             \u001b[0mhttp\u001b[0m\u001b[0;34m,\u001b[0m \u001b[0mrs\u001b[0m \u001b[0;34m=\u001b[0m \u001b[0msubmit\u001b[0m\u001b[0;34m(\u001b[0m\u001b[0mself\u001b[0m\u001b[0;34m.\u001b[0m\u001b[0mmethod\u001b[0m\u001b[0;34m,\u001b[0m \u001b[0muri\u001b[0m\u001b[0;34m,\u001b[0m \u001b[0mself\u001b[0m\u001b[0;34m.\u001b[0m\u001b[0mbody\u001b[0m\u001b[0;34m,\u001b[0m \u001b[0mheaders\u001b[0m\u001b[0;34m)\u001b[0m\u001b[0;34m\u001b[0m\u001b[0m\n\u001b[0m\u001b[1;32m    389\u001b[0m             \u001b[0mstatus_class\u001b[0m \u001b[0;34m=\u001b[0m \u001b[0mrs\u001b[0m\u001b[0;34m.\u001b[0m\u001b[0mstatus\u001b[0m \u001b[0;34m//\u001b[0m \u001b[0;36m100\u001b[0m\u001b[0;34m\u001b[0m\u001b[0m\n\u001b[1;32m    390\u001b[0m             \u001b[0;32mif\u001b[0m \u001b[0mstatus_class\u001b[0m \u001b[0;34m==\u001b[0m \u001b[0;36m3\u001b[0m\u001b[0;34m:\u001b[0m\u001b[0;34m\u001b[0m\u001b[0m\n",
        "\u001b[0;32m/Users/jnbrymn/anaconda/lib/python2.7/site-packages/py2neo/packages/httpstream/http.pyc\u001b[0m in \u001b[0;36msubmit\u001b[0;34m(method, uri, body, headers)\u001b[0m\n\u001b[1;32m    302\u001b[0m                 \u001b[0mcode\u001b[0m \u001b[0;34m=\u001b[0m \u001b[0merr\u001b[0m\u001b[0;34m.\u001b[0m\u001b[0margs\u001b[0m\u001b[0;34m[\u001b[0m\u001b[0;36m0\u001b[0m\u001b[0;34m]\u001b[0m\u001b[0;34m\u001b[0m\u001b[0m\n\u001b[1;32m    303\u001b[0m             \u001b[0;32mif\u001b[0m \u001b[0mcode\u001b[0m \u001b[0;32min\u001b[0m \u001b[0mretry_codes\u001b[0m\u001b[0;34m:\u001b[0m\u001b[0;34m\u001b[0m\u001b[0m\n\u001b[0;32m--> 304\u001b[0;31m                 \u001b[0mresponse\u001b[0m \u001b[0;34m=\u001b[0m \u001b[0msend\u001b[0m\u001b[0;34m(\u001b[0m\u001b[0mretry_codes\u001b[0m\u001b[0;34m[\u001b[0m\u001b[0mcode\u001b[0m\u001b[0;34m]\u001b[0m\u001b[0;34m)\u001b[0m\u001b[0;34m\u001b[0m\u001b[0m\n\u001b[0m\u001b[1;32m    305\u001b[0m             \u001b[0;32melse\u001b[0m\u001b[0;34m:\u001b[0m\u001b[0;34m\u001b[0m\u001b[0m\n\u001b[1;32m    306\u001b[0m                 \u001b[0;32mraise\u001b[0m\u001b[0;34m\u001b[0m\u001b[0m\n",
        "\u001b[0;32m/Users/jnbrymn/anaconda/lib/python2.7/site-packages/py2neo/packages/httpstream/http.pyc\u001b[0m in \u001b[0;36msend\u001b[0;34m(reconnect)\u001b[0m\n\u001b[1;32m    280\u001b[0m         \u001b[0mhttp\u001b[0m\u001b[0;34m.\u001b[0m\u001b[0mrequest\u001b[0m\u001b[0;34m(\u001b[0m\u001b[0mmethod\u001b[0m\u001b[0;34m,\u001b[0m \u001b[0muri\u001b[0m\u001b[0;34m.\u001b[0m\u001b[0mabsolute_path_reference\u001b[0m\u001b[0;34m,\u001b[0m \u001b[0mbody\u001b[0m\u001b[0;34m,\u001b[0m \u001b[0mheaders\u001b[0m\u001b[0;34m)\u001b[0m\u001b[0;34m\u001b[0m\u001b[0m\n\u001b[1;32m    281\u001b[0m         \u001b[0;32mif\u001b[0m \u001b[0msupports_buffering\u001b[0m\u001b[0;34m:\u001b[0m\u001b[0;34m\u001b[0m\u001b[0m\n\u001b[0;32m--> 282\u001b[0;31m             \u001b[0;32mreturn\u001b[0m \u001b[0mhttp\u001b[0m\u001b[0;34m.\u001b[0m\u001b[0mgetresponse\u001b[0m\u001b[0;34m(\u001b[0m\u001b[0mbuffering\u001b[0m\u001b[0;34m=\u001b[0m\u001b[0mTrue\u001b[0m\u001b[0;34m)\u001b[0m\u001b[0;34m\u001b[0m\u001b[0m\n\u001b[0m\u001b[1;32m    283\u001b[0m         \u001b[0;32melse\u001b[0m\u001b[0;34m:\u001b[0m\u001b[0;34m\u001b[0m\u001b[0m\n\u001b[1;32m    284\u001b[0m             \u001b[0;32mreturn\u001b[0m \u001b[0mhttp\u001b[0m\u001b[0;34m.\u001b[0m\u001b[0mgetresponse\u001b[0m\u001b[0;34m(\u001b[0m\u001b[0;34m)\u001b[0m\u001b[0;34m\u001b[0m\u001b[0m\n",
        "\u001b[0;32m/Users/jnbrymn/anaconda/python.app/Contents/lib/python2.7/httplib.pyc\u001b[0m in \u001b[0;36mgetresponse\u001b[0;34m(self, buffering)\u001b[0m\n\u001b[1;32m   1043\u001b[0m         \u001b[0mresponse\u001b[0m \u001b[0;34m=\u001b[0m \u001b[0mself\u001b[0m\u001b[0;34m.\u001b[0m\u001b[0mresponse_class\u001b[0m\u001b[0;34m(\u001b[0m\u001b[0;34m*\u001b[0m\u001b[0margs\u001b[0m\u001b[0;34m,\u001b[0m \u001b[0;34m**\u001b[0m\u001b[0mkwds\u001b[0m\u001b[0;34m)\u001b[0m\u001b[0;34m\u001b[0m\u001b[0m\n\u001b[1;32m   1044\u001b[0m \u001b[0;34m\u001b[0m\u001b[0m\n\u001b[0;32m-> 1045\u001b[0;31m         \u001b[0mresponse\u001b[0m\u001b[0;34m.\u001b[0m\u001b[0mbegin\u001b[0m\u001b[0;34m(\u001b[0m\u001b[0;34m)\u001b[0m\u001b[0;34m\u001b[0m\u001b[0m\n\u001b[0m\u001b[1;32m   1046\u001b[0m         \u001b[0;32massert\u001b[0m \u001b[0mresponse\u001b[0m\u001b[0;34m.\u001b[0m\u001b[0mwill_close\u001b[0m \u001b[0;34m!=\u001b[0m \u001b[0m_UNKNOWN\u001b[0m\u001b[0;34m\u001b[0m\u001b[0m\n\u001b[1;32m   1047\u001b[0m         \u001b[0mself\u001b[0m\u001b[0;34m.\u001b[0m\u001b[0m__state\u001b[0m \u001b[0;34m=\u001b[0m \u001b[0m_CS_IDLE\u001b[0m\u001b[0;34m\u001b[0m\u001b[0m\n",
        "\u001b[0;32m/Users/jnbrymn/anaconda/python.app/Contents/lib/python2.7/httplib.pyc\u001b[0m in \u001b[0;36mbegin\u001b[0;34m(self)\u001b[0m\n\u001b[1;32m    407\u001b[0m         \u001b[0;31m# read until we get a non-100 response\u001b[0m\u001b[0;34m\u001b[0m\u001b[0;34m\u001b[0m\u001b[0m\n\u001b[1;32m    408\u001b[0m         \u001b[0;32mwhile\u001b[0m \u001b[0mTrue\u001b[0m\u001b[0;34m:\u001b[0m\u001b[0;34m\u001b[0m\u001b[0m\n\u001b[0;32m--> 409\u001b[0;31m             \u001b[0mversion\u001b[0m\u001b[0;34m,\u001b[0m \u001b[0mstatus\u001b[0m\u001b[0;34m,\u001b[0m \u001b[0mreason\u001b[0m \u001b[0;34m=\u001b[0m \u001b[0mself\u001b[0m\u001b[0;34m.\u001b[0m\u001b[0m_read_status\u001b[0m\u001b[0;34m(\u001b[0m\u001b[0;34m)\u001b[0m\u001b[0;34m\u001b[0m\u001b[0m\n\u001b[0m\u001b[1;32m    410\u001b[0m             \u001b[0;32mif\u001b[0m \u001b[0mstatus\u001b[0m \u001b[0;34m!=\u001b[0m \u001b[0mCONTINUE\u001b[0m\u001b[0;34m:\u001b[0m\u001b[0;34m\u001b[0m\u001b[0m\n\u001b[1;32m    411\u001b[0m                 \u001b[0;32mbreak\u001b[0m\u001b[0;34m\u001b[0m\u001b[0m\n",
        "\u001b[0;32m/Users/jnbrymn/anaconda/python.app/Contents/lib/python2.7/httplib.pyc\u001b[0m in \u001b[0;36m_read_status\u001b[0;34m(self)\u001b[0m\n\u001b[1;32m    363\u001b[0m     \u001b[0;32mdef\u001b[0m \u001b[0m_read_status\u001b[0m\u001b[0;34m(\u001b[0m\u001b[0mself\u001b[0m\u001b[0;34m)\u001b[0m\u001b[0;34m:\u001b[0m\u001b[0;34m\u001b[0m\u001b[0m\n\u001b[1;32m    364\u001b[0m         \u001b[0;31m# Initialize with Simple-Response defaults\u001b[0m\u001b[0;34m\u001b[0m\u001b[0;34m\u001b[0m\u001b[0m\n\u001b[0;32m--> 365\u001b[0;31m         \u001b[0mline\u001b[0m \u001b[0;34m=\u001b[0m \u001b[0mself\u001b[0m\u001b[0;34m.\u001b[0m\u001b[0mfp\u001b[0m\u001b[0;34m.\u001b[0m\u001b[0mreadline\u001b[0m\u001b[0;34m(\u001b[0m\u001b[0m_MAXLINE\u001b[0m \u001b[0;34m+\u001b[0m \u001b[0;36m1\u001b[0m\u001b[0;34m)\u001b[0m\u001b[0;34m\u001b[0m\u001b[0m\n\u001b[0m\u001b[1;32m    366\u001b[0m         \u001b[0;32mif\u001b[0m \u001b[0mlen\u001b[0m\u001b[0;34m(\u001b[0m\u001b[0mline\u001b[0m\u001b[0;34m)\u001b[0m \u001b[0;34m>\u001b[0m \u001b[0m_MAXLINE\u001b[0m\u001b[0;34m:\u001b[0m\u001b[0;34m\u001b[0m\u001b[0m\n\u001b[1;32m    367\u001b[0m             \u001b[0;32mraise\u001b[0m \u001b[0mLineTooLong\u001b[0m\u001b[0;34m(\u001b[0m\u001b[0;34m\"header line\"\u001b[0m\u001b[0;34m)\u001b[0m\u001b[0;34m\u001b[0m\u001b[0m\n",
        "\u001b[0;32m/Users/jnbrymn/anaconda/python.app/Contents/lib/python2.7/socket.pyc\u001b[0m in \u001b[0;36mreadline\u001b[0;34m(self, size)\u001b[0m\n\u001b[1;32m    474\u001b[0m             \u001b[0;32mwhile\u001b[0m \u001b[0mTrue\u001b[0m\u001b[0;34m:\u001b[0m\u001b[0;34m\u001b[0m\u001b[0m\n\u001b[1;32m    475\u001b[0m                 \u001b[0;32mtry\u001b[0m\u001b[0;34m:\u001b[0m\u001b[0;34m\u001b[0m\u001b[0m\n\u001b[0;32m--> 476\u001b[0;31m                     \u001b[0mdata\u001b[0m \u001b[0;34m=\u001b[0m \u001b[0mself\u001b[0m\u001b[0;34m.\u001b[0m\u001b[0m_sock\u001b[0m\u001b[0;34m.\u001b[0m\u001b[0mrecv\u001b[0m\u001b[0;34m(\u001b[0m\u001b[0mself\u001b[0m\u001b[0;34m.\u001b[0m\u001b[0m_rbufsize\u001b[0m\u001b[0;34m)\u001b[0m\u001b[0;34m\u001b[0m\u001b[0m\n\u001b[0m\u001b[1;32m    477\u001b[0m                 \u001b[0;32mexcept\u001b[0m \u001b[0merror\u001b[0m\u001b[0;34m,\u001b[0m \u001b[0me\u001b[0m\u001b[0;34m:\u001b[0m\u001b[0;34m\u001b[0m\u001b[0m\n\u001b[1;32m    478\u001b[0m                     \u001b[0;32mif\u001b[0m \u001b[0me\u001b[0m\u001b[0;34m.\u001b[0m\u001b[0margs\u001b[0m\u001b[0;34m[\u001b[0m\u001b[0;36m0\u001b[0m\u001b[0;34m]\u001b[0m \u001b[0;34m==\u001b[0m \u001b[0mEINTR\u001b[0m\u001b[0;34m:\u001b[0m\u001b[0;34m\u001b[0m\u001b[0m\n",
        "\u001b[0;31mKeyboardInterrupt\u001b[0m: "
       ]
      }
     ],
     "prompt_number": 10
    },
    {
     "cell_type": "code",
     "collapsed": false,
     "input": [
      "\"a\"==u\"a\""
     ],
     "language": "python",
     "metadata": {},
     "outputs": [
      {
       "metadata": {},
       "output_type": "pyout",
       "prompt_number": 9,
       "text": [
        "True"
       ]
      }
     ],
     "prompt_number": 9
    },
    {
     "cell_type": "code",
     "collapsed": false,
     "input": [
      "a=[3]\n",
      "isinstance(a,list) and a[0]==3"
     ],
     "language": "python",
     "metadata": {},
     "outputs": [
      {
       "metadata": {},
       "output_type": "pyout",
       "prompt_number": 22,
       "text": [
        "True"
       ]
      }
     ],
     "prompt_number": 22
    },
    {
     "cell_type": "code",
     "collapsed": false,
     "input": [
      "users = [16958875, 88996186, 68996169, 40899371, 23121464, 9099702, 15420878, 15670200, 10162682, 35004763, 15483657, 13983762, 49221688, 50336070, 239444975, 70751508, 752673, 91985735, 22747624, 7759542, 4411041, 22713070, 433365498, 20600361, 22956502, 27966535, 19172334, 14230081, 386678455, 70826487, 23520794, 40813433, 18519434, 21920922, 897351, 85845147, 44695582, 56263107, 853061, 15672663, 16396944, 805326, 17240426, 29890712, 23323149, 8115462, 45399704, 26266318, 8501652, 26662171, 42226885, 291340178, 6544052, 1176789733, 1143603608, 7954932, 91164223, 154546536, 153208675, 14984090, 220145170, 296854309, 362264402, 765548, 167169119, 43593, 132051240, 9632312, 181980089, 283112079, 245187609, 6793082, 14152501, 90380405, 139919418, 29249558, 109958517, 426731620, 31292265, 1611332490, 28037520, 6186992, 419639256, 14578294, 13085242, 15856984, 215784418, 14481902, 60888740, 225567774, 8495542, 14317610, 339839596, 759291937, 84334141, 10386022, 14772891, 46232209, 177826246, 20250069, 115494880, 13553, 1912849261, 1381891062, 71069691, 18917167, 991155846, 113671330, 14707949, 41199313, 14721805, 34778769, 12130832, 14593576, 16067035, 18367054, 15379361, 564056003, 15184840, 6086812, 36383929, 16155513, 89249164, 48477652, 482856632, 16250192, 13124352, 20745055, 292158083, 58501636, 166713834, 19007926, 126226388, 234815846, 13895242, 586671909, 19352207, 5503542, 182675886, 14914457, 15453, 210520672, 14313383, 404946566, 8391692, 132373965, 339761941, 6624662, 24945605, 16026261, 14635493, 14174897, 16476434, 2321648514, 391776344, 867129265, 1021661, 13127032, 11607452, 61283189, 13826102, 109184306, 30923, 24589305, 2221740170, 1553706547, 319078080]\n",
      "m._hydrate_users_from_twitter(users[200:299])"
     ],
     "language": "python",
     "metadata": {},
     "outputs": [
      {
       "metadata": {},
       "output_type": "pyout",
       "prompt_number": 155,
       "text": [
        "[]"
       ]
      }
     ],
     "prompt_number": 155
    },
    {
     "cell_type": "code",
     "collapsed": false,
     "input": [
      "friends = _"
     ],
     "language": "python",
     "metadata": {},
     "outputs": [],
     "prompt_number": 13
    },
    {
     "cell_type": "code",
     "collapsed": false,
     "input": [
      "friends"
     ],
     "language": "python",
     "metadata": {},
     "outputs": [
      {
       "metadata": {},
       "output_type": "pyout",
       "prompt_number": 14,
       "text": [
        "GroupedUsers([(10, [User(id=19463693,screen_name=None), User(id=14632982,screen_name=None), User(id=28881634,screen_name=None), User(id=34270918,screen_name=None), User(id=22809596,screen_name=None)]), (9, [User(id=28325059,screen_name=None), User(id=15205886,screen_name=None), User(id=567271096,screen_name=None)]), (8, [User(id=14465856,screen_name=None), User(id=38686230,screen_name=None)]), (7, [User(id=15420878,screen_name=None), User(id=36646572,screen_name=None), User(id=479004438,screen_name=None), User(id=17902122,screen_name=None), User(id=19033910,screen_name=None), User(id=302840829,screen_name=None), User(id=42432542,screen_name=None)]), (6, [User(id=11278772,screen_name=None), User(id=826463318,screen_name=None), User(id=15251388,screen_name=None), User(id=760627034,screen_name=None), User(id=92863066,screen_name=None), User(id=24618459,screen_name=None), User(id=15429973,screen_name=None), User(id=1135802857,screen_name=None), User(id=17275644,screen_name=None), User(id=15935772,screen_name=None), User(id=11141672,screen_name=None), User(id=773709,screen_name=None), User(id=1969762429,screen_name=None)]), (5, [User(id=550004180,screen_name=None), User(id=6898452,screen_name=None), User(id=22587551,screen_name=None), User(id=277109244,screen_name=None), User(id=6884122,screen_name=None), User(id=297974311,screen_name=None), User(id=8435082,screen_name=None), User(id=61948411,screen_name=None), User(id=1673014824,screen_name=None), User(id=52788956,screen_name=None), User(id=101496282,screen_name=None)]), (4, [User(id=355421898,screen_name=None), User(id=14747497,screen_name=None), User(id=734146236,screen_name=None), User(id=30027532,screen_name=None), User(id=450331119,screen_name=None), User(id=149681402,screen_name=None), User(id=534806930,screen_name=None), User(id=5528,screen_name=None), User(id=1176789733,screen_name=None), User(id=18905581,screen_name=None), User(id=58964753,screen_name=None), User(id=22193049,screen_name=None), User(id=206283535,screen_name=None), User(id=837863988,screen_name=None), User(id=6472302,screen_name=None), User(id=259016411,screen_name=None), User(id=17136814,screen_name=None), User(id=836835031,screen_name=None), User(id=55674289,screen_name=None), User(id=897351,screen_name=None), User(id=8792052,screen_name=None), User(id=63315790,screen_name=None), User(id=10165302,screen_name=None), User(id=87225131,screen_name=None), User(id=23121464,screen_name=None), User(id=19112628,screen_name=None)]), (3, [User(id=98181234,screen_name=None), User(id=44196397,screen_name=None), User(id=14068603,screen_name=None), User(id=1583103985,screen_name=None), User(id=126226388,screen_name=None), User(id=17980180,screen_name=None), User(id=107926561,screen_name=None), User(id=17117978,screen_name=None), User(id=66432490,screen_name=None), User(id=752422021,screen_name=None), User(id=119498926,screen_name=None), User(id=333361819,screen_name=None), User(id=16340597,screen_name=None), User(id=797183,screen_name=None), User(id=365949960,screen_name=None), User(id=134554277,screen_name=None), User(id=221902776,screen_name=None), User(id=234815846,screen_name=None), User(id=14344469,screen_name=None), User(id=54621207,screen_name=None), User(id=62581962,screen_name=None), User(id=14571055,screen_name=None), User(id=586803,screen_name=None), User(id=17866700,screen_name=None), User(id=15274071,screen_name=None), User(id=29868557,screen_name=None), User(id=139956094,screen_name=None), User(id=18519434,screen_name=None), User(id=214357120,screen_name=None), User(id=14317610,screen_name=None), User(id=16669933,screen_name=None), User(id=2168804167,screen_name=None), User(id=52553230,screen_name=None)])])"
       ]
      }
     ],
     "prompt_number": 14
    },
    {
     "cell_type": "code",
     "collapsed": false,
     "input": [],
     "language": "python",
     "metadata": {},
     "outputs": []
    }
   ],
   "metadata": {}
  }
 ]
}