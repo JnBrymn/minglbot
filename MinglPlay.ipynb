{
 "metadata": {
  "name": ""
 },
 "nbformat": 3,
 "nbformat_minor": 0,
 "worksheets": [
  {
   "cells": [
    {
     "cell_type": "code",
     "collapsed": false,
     "input": [
      "import mingl\n",
      "reload(mingl)\n",
      "import os\n",
      "\n",
      "m = mingl.Mingl(os.getenv(\"TWITTER_CONSUMER_KEY\"), os.getenv(\"TWITTER_CONSUMER_SECRET\"))"
     ],
     "language": "python",
     "metadata": {},
     "outputs": [],
     "prompt_number": 5
    },
    {
     "cell_type": "code",
     "collapsed": false,
     "input": [
      "osc=[\"dep4b\",\"hull_j\",\"scottstults\",\"omnifroodle\",\"jnbrymn\",\"softwaredoug\",\"danielbeach\",\"patriciagorla\",\"jwoodell\"]\n",
      "datascience=[\"hmason\",\"analyticbridge\",\"strataconf\",\"DataKind\",\"DataScienceCtrl\",\"kaggle\",\"ds_ldn\",\"simplystats\",\n",
      "             \"peteskomoroch\",\"BerkeleyData\",\"algoriffic\",\"JaffrayW\",\"josh_wills\",\"cloudera\",\"ted_dunning\",\n",
      "             \"NateSilver538\",\"pfreez\"]\n",
      "cville_irc = [\"mattdawson\",\"rduplain\",\"amontalenti\",\"andrewroycarter\",\"caseydriscoll\",\"fuzzybinary\",\n",
      "              \"kaigroner\",\"mattyohe\",\"koosh_ball\",\"jeffpamer\",\"patriciagorla\",\"Juntray\",\"trrunng\",\n",
      "              \"juphoff\",\"vince_riv\",\"jasonsee\",\"meekohi\",\"RufusRizzo78\",\"globedope\",\"lmcdowell\",\"coshx\"]\n",
      "cville_irc_unknown = [\"centrelink\",\"lexvegas\",\"Rolf Braun\",\"kerekrekrker\"]\n",
      "twitter_magic_recs = [\"truthseeker1985\",\"3_stan\",\"vzhabiuk\",\"ekozak\",\"sgurumur\",\"ajeet\",\"pankaj\",\"venusatuluri\"]\n",
      "python=[\"ThePSF\",\"pycon\",\"dabeaz\",\"PythonQuestions\",\"64BitsPerMinute\",\"rduplain\",\"amontalenti\",\"alex_gaynor\",\n",
      "        \"dartdog\",\"amfarrell\",\"catherinedevlin\",\"mtrier\",\"Streamweaver\",\"patriciagorla\",\"gvanrossum\",\"ianbicking\"]\n",
      "walterbacon=[\"walterbacon\"]\n",
      "lyft = [\"lyft\",\"lyft_diaries\",\"LyftFM\",\"ILoveLyft\",\"ArtLyft\",\"hiphoplyft\",\"aimzuck\",\"Bakari\",\"johnzimmer\",\"emilycastor\"]\n",
      "uvahackers = [\"UVaHackers\"]#interesting person to hack"
     ],
     "language": "python",
     "metadata": {},
     "outputs": [],
     "prompt_number": 6
    },
    {
     "cell_type": "code",
     "collapsed": false,
     "input": [
      "friends=[]\n",
      "friends.extend(uvahackers)\n",
      "friends = m.get_mutual_friends(friends)"
     ],
     "language": "python",
     "metadata": {},
     "outputs": [],
     "prompt_number": 10
    },
    {
     "cell_type": "code",
     "collapsed": false,
     "input": [
      "friends = m.get_mutual_friends(friends)"
     ],
     "language": "python",
     "metadata": {},
     "outputs": [],
     "prompt_number": 11
    },
    {
     "cell_type": "code",
     "collapsed": false,
     "input": [
      "while True:\n",
      "    friends = m.get_mutual_friends(friends,num_to_use=25)"
     ],
     "language": "python",
     "metadata": {},
     "outputs": []
    },
    {
     "cell_type": "code",
     "collapsed": false,
     "input": [
      "friends = m.hydrate_users(friends)"
     ],
     "language": "python",
     "metadata": {},
     "outputs": [],
     "prompt_number": 8
    },
    {
     "cell_type": "code",
     "collapsed": false,
     "input": [
      "for k,v in friends.iteritems():\n",
      "    print k\n",
      "    for u in v:\n",
      "        #print \"\\t\", u.screen_name, u.id#,\"\\n\\t\\t\",u[\"name\"],\"\\n\\t\\t\",u[\"description\"],\"\\n\\n\"\n",
      "        print \"\\t\", u.screen_name"
     ],
     "language": "python",
     "metadata": {},
     "outputs": [
      {
       "output_type": "stream",
       "stream": "stdout",
       "text": [
        " 32\n",
        "\tuva\n",
        "28\n",
        "\tcs_uva\n",
        "25\n",
        "\tbillgates\n",
        "24\n",
        "\tseasupdates\n",
        "22\n",
        "\ttechcrunch\n",
        "21\n",
        "\tmlhacks\n",
        "\tuvadeangroves\n",
        "20\n",
        "\tnytimes\n",
        "\tgoogle\n",
        "\tnasa\n",
        "19\n",
        "\tbarackobama\n",
        "18\n",
        "\tuvahackers\n",
        "17\n",
        "\twsj\n",
        "\tcnn\n",
        "\tcavalierdaily\n",
        "\tswiftalphaone\n",
        "16\n",
        "\tpennapps\n",
        "\tmedium\n",
        "\twired\n",
        "\tdropbox\n",
        "15\n",
        "\tuvacs2150\n",
        "\tstephenathome\n",
        "\tbbcbreaking\n",
        "\tcnnbrk\n",
        "\tjack\n",
        "14\n",
        "\twashingtonpost\n",
        "\tgithub\n",
        "\ttwitter\n",
        "13\n",
        "\tuvatoday\n",
        "\tdavefontenot\n",
        "\tmhacks\n",
        "\tbbcworld\n",
        "\tmicrosoft\n",
        "12\n",
        "\tdailyprogress\n",
        "\tthehacktech\n",
        "\thackny\n",
        "\tneiltyson\n",
        "\ttheonion\n",
        "\tuvadeanj\n",
        "\tverge\n",
        "\twhitehouse\n",
        "\t_tessr\n",
        "\tuvalibrary\n",
        "\tgoogledevs\n",
        "\tuva_alumni\n",
        "11\n",
        "\tuva_sa\n",
        "\tlifehacker\n",
        "\tnbc29\n",
        "\tthescienceguy\n",
        "\tforbestech\n",
        "\tmrjefferson_uva\n",
        "\tpulakm\n",
        "\talexisohanian\n",
        "\tmashable\n",
        "\tandroid\n",
        "\tmcintireuva\n",
        "\tuva_events\n",
        "\tvirginiasports\n",
        "\tyoutube\n",
        "\tycombinator\n",
        "\tjonmarkgo\n",
        "\tnsf\n",
        "\tarstechnica\n",
        "\tuvahealthnews\n",
        "10\n",
        "\tuvaits\n",
        "\tfastcompany\n",
        "\tnewyorker\n",
        "\ttheuvafool\n",
        "\tyefim\n",
        "\tsciam\n",
        "\tscsatcmu\n",
        "\tuvalaw\n",
        "\tthehackru\n",
        "\tcoachmikelondon\n",
        "\thackerleague\n",
        "\tsustainableuva\n",
        "\tventurebeat\n",
        "\tpaulg\n",
        "\tlawnlife\n",
        "\tuva_lifetimelrn\n",
        "\tuvacommunity\n",
        "\tNone\n",
        "\tbitcmp\n",
        "\tap\n",
        "\tstanfordeng\n",
        "\twindows\n",
        "\thackmit\n",
        "\telonmusk\n",
        "\tcern\n",
        "\tlarrysabato\n",
        "\tmedicineuva\n",
        "\tuvaartslib\n",
        "\tcvillecityhall\n",
        "\ttheeconomist\n",
        "\tmsftresearch\n",
        "\tNone\n",
        "9\n",
        "\ttheamydance\n",
        "\tNone\n",
        "\tNone\n",
        "\tNone\n"
       ]
      }
     ],
     "prompt_number": 16
    },
    {
     "cell_type": "code",
     "collapsed": false,
     "input": [
      "friends.get_all()"
     ],
     "language": "python",
     "metadata": {},
     "outputs": []
    },
    {
     "cell_type": "markdown",
     "metadata": {},
     "source": [
      "#Trash Below Here"
     ]
    },
    {
     "cell_type": "code",
     "collapsed": false,
     "input": [
      "m._hydrate_users_from_twitter([\"jnbrymn\"])"
     ],
     "language": "python",
     "metadata": {},
     "outputs": [
      {
       "metadata": {},
       "output_type": "pyout",
       "prompt_number": 2,
       "text": [
        "[User(id=28881634,screen_name=jnbrymn)]"
       ]
      }
     ],
     "prompt_number": 2
    },
    {
     "cell_type": "code",
     "collapsed": false,
     "input": [
      "u[0][\"name\"]"
     ],
     "language": "python",
     "metadata": {},
     "outputs": [
      {
       "metadata": {},
       "output_type": "pyout",
       "prompt_number": 4,
       "text": [
        "u'John Berryman'"
       ]
      }
     ],
     "prompt_number": 4
    },
    {
     "cell_type": "code",
     "collapsed": false,
     "input": [],
     "language": "python",
     "metadata": {},
     "outputs": []
    }
   ],
   "metadata": {}
  }
 ]
}